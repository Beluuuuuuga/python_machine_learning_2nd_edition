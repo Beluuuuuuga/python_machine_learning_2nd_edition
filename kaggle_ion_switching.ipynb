{
  "nbformat": 4,
  "nbformat_minor": 0,
  "metadata": {
    "colab": {
      "name": "kaggle_ion_switching.ipynb",
      "provenance": [],
      "toc_visible": true,
      "machine_shape": "hm",
      "mount_file_id": "1k5vnEYJBqecj7JeA9B7qi1nEcalTTmKc",
      "authorship_tag": "ABX9TyO7VyvKdgUQsONns4Olrrcs",
      "include_colab_link": true
    },
    "kernelspec": {
      "name": "python3",
      "display_name": "Python 3"
    },
    "accelerator": "GPU"
  },
  "cells": [
    {
      "cell_type": "markdown",
      "metadata": {
        "id": "view-in-github",
        "colab_type": "text"
      },
      "source": [
        "<a href=\"https://colab.research.google.com/github/Beluuuuuuga/python_machine_learning_2nd_edition/blob/master/kaggle_ion_switching.ipynb\" target=\"_parent\"><img src=\"https://colab.research.google.com/assets/colab-badge.svg\" alt=\"Open In Colab\"/></a>"
      ]
    },
    {
      "cell_type": "code",
      "metadata": {
        "id": "TqR62TLIALRi",
        "colab_type": "code",
        "colab": {}
      },
      "source": [
        "# Google driveにファイル保存する用\n",
        "!pip install -U -q PyDrive\n",
        "\n",
        "from pydrive.auth import GoogleAuth\n",
        "from pydrive.drive import GoogleDrive\n",
        "from google.colab import auth\n",
        "from oauth2client.client import GoogleCredentials\n",
        "\n",
        "auth.authenticate_user()\n",
        "gauth = GoogleAuth()\n",
        "gauth.credentials = GoogleCredentials.get_application_default()\n",
        "drive = GoogleDrive(gauth)\n",
        "# 4/wwEVHBbLp_T5iqhskY-swvFHQ_O_x3PvyYcgC8mQkXYW4H14lP9mwa0"
      ],
      "execution_count": 0,
      "outputs": []
    },
    {
      "cell_type": "code",
      "metadata": {
        "id": "WT4tXqwK8ZHY",
        "colab_type": "code",
        "outputId": "138ae96b-5093-44d3-f9d2-e96cc8c7e526",
        "colab": {
          "resources": {
            "http://localhost:8080/nbextensions/google.colab/files.js": {
              "data": "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",
              "ok": true,
              "headers": [
                [
                  "content-type",
                  "application/javascript"
                ]
              ],
              "status": 200,
              "status_text": ""
            }
          },
          "base_uri": "https://localhost:8080/",
          "height": 88
        }
      },
      "source": [
        "# kaggle API使用\n",
        "from google.colab import files\n",
        "files.upload()\n",
        "!mkdir ~/.kaggle\n",
        "!cp /content/kaggle.json ~/.kaggle/kaggle.json\n",
        "!ls ~/.kaggle/\n",
        "!chmod 600 ~/.kaggle/kaggle.json"
      ],
      "execution_count": 2,
      "outputs": [
        {
          "output_type": "display_data",
          "data": {
            "text/html": [
              "\n",
              "     <input type=\"file\" id=\"files-e05d9071-8c7e-46a4-b4c6-a14260296e18\" name=\"files[]\" multiple disabled />\n",
              "     <output id=\"result-e05d9071-8c7e-46a4-b4c6-a14260296e18\">\n",
              "      Upload widget is only available when the cell has been executed in the\n",
              "      current browser session. Please rerun this cell to enable.\n",
              "      </output>\n",
              "      <script src=\"/nbextensions/google.colab/files.js\"></script> "
            ],
            "text/plain": [
              "<IPython.core.display.HTML object>"
            ]
          },
          "metadata": {
            "tags": []
          }
        },
        {
          "output_type": "stream",
          "text": [
            "Saving kaggle.json to kaggle.json\n",
            "kaggle.json\n"
          ],
          "name": "stdout"
        }
      ]
    },
    {
      "cell_type": "code",
      "metadata": {
        "id": "FVJIIk3f8ye0",
        "colab_type": "code",
        "outputId": "9e8fc7e1-c03b-4bba-eb57-c4f9e3da4262",
        "colab": {
          "base_uri": "https://localhost:8080/",
          "height": 153
        }
      },
      "source": [
        "# 使用を確認\n",
        "!kaggle competitions list"
      ],
      "execution_count": 3,
      "outputs": [
        {
          "output_type": "stream",
          "text": [
            "Traceback (most recent call last):\n",
            "  File \"/usr/local/bin/kaggle\", line 5, in <module>\n",
            "    from kaggle.cli import main\n",
            "  File \"/usr/local/lib/python2.7/dist-packages/kaggle/__init__.py\", line 23, in <module>\n",
            "    api.authenticate()\n",
            "  File \"/usr/local/lib/python2.7/dist-packages/kaggle/api/kaggle_api_extended.py\", line 146, in authenticate\n",
            "    self.config_file, self.config_dir))\n",
            "IOError: Could not find kaggle.json. Make sure it's located in /root/.kaggle. Or use the environment method.\n"
          ],
          "name": "stdout"
        }
      ]
    },
    {
      "cell_type": "code",
      "metadata": {
        "id": "UoOYwKVX9daL",
        "colab_type": "code",
        "outputId": "ea68ad55-0905-4a82-93f5-a7670f116f8b",
        "colab": {
          "base_uri": "https://localhost:8080/",
          "height": 289
        }
      },
      "source": [
        "# Ion Switchingのデータをダウンロード、アンジップ\n",
        "!kaggle competitions download -c liverpool-ion-switching\n",
        "!unzip sample_submission.csv.zip\n",
        "!unzip train.csv.zip\n",
        "!unzip test.csv.zip"
      ],
      "execution_count": 4,
      "outputs": [
        {
          "output_type": "stream",
          "text": [
            "Warning: Looks like you're using an outdated API Version, please consider updating (server 1.5.6 / client 1.5.4)\n",
            "Downloading train.csv.zip to /content\n",
            " 60% 16.0M/26.6M [00:00<00:00, 164MB/s]\n",
            "100% 26.6M/26.6M [00:00<00:00, 170MB/s]\n",
            "Downloading test.csv.zip to /content\n",
            "  0% 0.00/9.91M [00:00<?, ?B/s]\n",
            "100% 9.91M/9.91M [00:00<00:00, 91.2MB/s]\n",
            "Downloading sample_submission.csv.zip to /content\n",
            "  0% 0.00/4.27M [00:00<?, ?B/s]\n",
            "100% 4.27M/4.27M [00:00<00:00, 70.1MB/s]\n",
            "Archive:  sample_submission.csv.zip\n",
            "  inflating: sample_submission.csv   \n",
            "Archive:  train.csv.zip\n",
            "  inflating: train.csv               \n",
            "Archive:  test.csv.zip\n",
            "  inflating: test.csv                \n"
          ],
          "name": "stdout"
        }
      ]
    },
    {
      "cell_type": "code",
      "metadata": {
        "id": "BtFAk8ELfiLT",
        "colab_type": "code",
        "colab": {}
      },
      "source": [
        "import pandas as pd\n",
        "import numpy as np"
      ],
      "execution_count": 0,
      "outputs": []
    },
    {
      "cell_type": "code",
      "metadata": {
        "id": "kx0yxge09uc1",
        "colab_type": "code",
        "outputId": "d0b2a129-3171-488d-d67a-86cdd1c438eb",
        "colab": {
          "base_uri": "https://localhost:8080/",
          "height": 419
        }
      },
      "source": [
        "train =  pd.read_csv(\"train.csv\")\n",
        "test = pd.read_csv(\"test.csv\")\n",
        "test"
      ],
      "execution_count": 5,
      "outputs": [
        {
          "output_type": "execute_result",
          "data": {
            "text/html": [
              "<div>\n",
              "<style scoped>\n",
              "    .dataframe tbody tr th:only-of-type {\n",
              "        vertical-align: middle;\n",
              "    }\n",
              "\n",
              "    .dataframe tbody tr th {\n",
              "        vertical-align: top;\n",
              "    }\n",
              "\n",
              "    .dataframe thead th {\n",
              "        text-align: right;\n",
              "    }\n",
              "</style>\n",
              "<table border=\"1\" class=\"dataframe\">\n",
              "  <thead>\n",
              "    <tr style=\"text-align: right;\">\n",
              "      <th></th>\n",
              "      <th>time</th>\n",
              "      <th>signal</th>\n",
              "    </tr>\n",
              "  </thead>\n",
              "  <tbody>\n",
              "    <tr>\n",
              "      <th>0</th>\n",
              "      <td>500.0001</td>\n",
              "      <td>-2.6498</td>\n",
              "    </tr>\n",
              "    <tr>\n",
              "      <th>1</th>\n",
              "      <td>500.0002</td>\n",
              "      <td>-2.8494</td>\n",
              "    </tr>\n",
              "    <tr>\n",
              "      <th>2</th>\n",
              "      <td>500.0003</td>\n",
              "      <td>-2.8600</td>\n",
              "    </tr>\n",
              "    <tr>\n",
              "      <th>3</th>\n",
              "      <td>500.0004</td>\n",
              "      <td>-2.4350</td>\n",
              "    </tr>\n",
              "    <tr>\n",
              "      <th>4</th>\n",
              "      <td>500.0005</td>\n",
              "      <td>-2.6155</td>\n",
              "    </tr>\n",
              "    <tr>\n",
              "      <th>...</th>\n",
              "      <td>...</td>\n",
              "      <td>...</td>\n",
              "    </tr>\n",
              "    <tr>\n",
              "      <th>1999995</th>\n",
              "      <td>699.9996</td>\n",
              "      <td>-2.9092</td>\n",
              "    </tr>\n",
              "    <tr>\n",
              "      <th>1999996</th>\n",
              "      <td>699.9997</td>\n",
              "      <td>-2.7422</td>\n",
              "    </tr>\n",
              "    <tr>\n",
              "      <th>1999997</th>\n",
              "      <td>699.9998</td>\n",
              "      <td>-2.8285</td>\n",
              "    </tr>\n",
              "    <tr>\n",
              "      <th>1999998</th>\n",
              "      <td>699.9999</td>\n",
              "      <td>-2.9092</td>\n",
              "    </tr>\n",
              "    <tr>\n",
              "      <th>1999999</th>\n",
              "      <td>700.0000</td>\n",
              "      <td>-2.7422</td>\n",
              "    </tr>\n",
              "  </tbody>\n",
              "</table>\n",
              "<p>2000000 rows × 2 columns</p>\n",
              "</div>"
            ],
            "text/plain": [
              "             time  signal\n",
              "0        500.0001 -2.6498\n",
              "1        500.0002 -2.8494\n",
              "2        500.0003 -2.8600\n",
              "3        500.0004 -2.4350\n",
              "4        500.0005 -2.6155\n",
              "...           ...     ...\n",
              "1999995  699.9996 -2.9092\n",
              "1999996  699.9997 -2.7422\n",
              "1999997  699.9998 -2.8285\n",
              "1999998  699.9999 -2.9092\n",
              "1999999  700.0000 -2.7422\n",
              "\n",
              "[2000000 rows x 2 columns]"
            ]
          },
          "metadata": {
            "tags": []
          },
          "execution_count": 5
        }
      ]
    },
    {
      "cell_type": "code",
      "metadata": {
        "id": "DVkoIdiWfmX7",
        "colab_type": "code",
        "colab": {}
      },
      "source": [
        "train_x = train.drop(['open_channels'], axis=1)\n",
        "train_y = train['open_channels']"
      ],
      "execution_count": 0,
      "outputs": []
    },
    {
      "cell_type": "code",
      "metadata": {
        "id": "2NcWkhBngHwa",
        "colab_type": "code",
        "outputId": "b92d6a1b-6d60-47a1-8f2f-0ba2856182a4",
        "colab": {
          "base_uri": "https://localhost:8080/",
          "height": 68
        }
      },
      "source": [
        "bracket = train_x[1:2]\n",
        "loc = train_x.loc[1]\n",
        "iloc = train_x.iloc[1]\n",
        "print(type(bracket))\n",
        "print(type(loc))\n",
        "print(type(iloc))"
      ],
      "execution_count": 0,
      "outputs": [
        {
          "output_type": "stream",
          "text": [
            "<class 'pandas.core.frame.DataFrame'>\n",
            "<class 'pandas.core.series.Series'>\n",
            "<class 'pandas.core.series.Series'>\n"
          ],
          "name": "stdout"
        }
      ]
    },
    {
      "cell_type": "code",
      "metadata": {
        "id": "DemqqJLSgOCe",
        "colab_type": "code",
        "outputId": "a55d9c53-1a98-4abb-fc77-23cace4053b9",
        "colab": {
          "base_uri": "https://localhost:8080/",
          "height": 34
        }
      },
      "source": [
        "train_x.shape"
      ],
      "execution_count": 0,
      "outputs": [
        {
          "output_type": "execute_result",
          "data": {
            "text/plain": [
              "(5000000, 2)"
            ]
          },
          "metadata": {
            "tags": []
          },
          "execution_count": 108
        }
      ]
    },
    {
      "cell_type": "code",
      "metadata": {
        "id": "Urftq-ajhzJ-",
        "colab_type": "code",
        "colab": {}
      },
      "source": [
        "# 練習用\n",
        "practice_x = train_x[:1000]\n",
        "practice_y = train_y[:1000]"
      ],
      "execution_count": 0,
      "outputs": []
    },
    {
      "cell_type": "code",
      "metadata": {
        "id": "gI8MVpIOiEh9",
        "colab_type": "code",
        "outputId": "80738c68-7ff4-4a1b-9010-19986c5384b4",
        "colab": {
          "base_uri": "https://localhost:8080/",
          "height": 102
        }
      },
      "source": [
        "import pandas as pd\n",
        "import numpy as np\n",
        "\n",
        "\n",
        "from sklearn.model_selection import KFold\n",
        "\n",
        "from sklearn.metrics import log_loss, f1_score, accuracy_score\n",
        "# from sklearn.metrics import f1_score\n",
        "import lightgbm as lgb\n",
        "\n",
        "\n",
        "data = train_x[90000:100000]\n",
        "y = train['open_channels'][90000:100000]\n",
        "test_x = test[90000:100000]\n",
        "\n",
        "oof = np.zeros(len(data))\n",
        "pred = np.zeros(len(data))\n",
        "scores = []\n",
        "\n",
        "\n",
        "# Modeling\n",
        "n_fold = 5\n",
        "folds = KFold(n_splits=n_fold, shuffle=True, random_state=123)\n",
        "for n_fold, (tr_idx, va_idx) in enumerate(folds.split(data, y)):\n",
        "    tr_x,tr_y = data.iloc[tr_idx], y.iloc[tr_idx]\n",
        "    va_x,va_y = data.iloc[va_idx], y.iloc[va_idx]\n",
        "\n",
        "    # 特徴量と目的変数をlightgbmのデータ構造に変換する\n",
        "    lgb_train = lgb.Dataset(tr_x, tr_y)\n",
        "    lgb_eval = lgb.Dataset(va_x, va_y)\n",
        "\n",
        "    # ハイパーパラメータの設定\n",
        "    params =  {'objective': 'binary',\n",
        "                        'seed': 71,\n",
        "                        'verbose': 0,\n",
        "                        'metrics': 'binary_logloss'}\n",
        "    num_round = 100\n",
        "\n",
        "    # 学習の実行\n",
        "    # カテゴリ変数をパラメータで指定している\n",
        "    # バリエーションデータのモデルに渡し、学習の進行と共にスコアがどう変わるかモニタリングする\n",
        "    # categorical_features = ['product', 'medical_info_b2', 'medical_info_3']\n",
        "    model = lgb.train(params, \n",
        "                                lgb_train, num_boost_round=num_round, \n",
        "                                # categorical_features=categorical_features,\n",
        "                                valid_names=['train', 'valid'])\n",
        "                                # ,valid_sets=[lgb_train, lgb_eval]) # 時間経過と共に値を確認できる\n",
        "    \n",
        "    # バリデーションデータでのスコア確認\n",
        "    va_pred = model.predict(va_x)\n",
        "    score = log_loss(va_y, va_pred)\n",
        "    # print(f1_score(va_y, va_pred, average='macro')\n",
        "    # f1_score(va_y, va_pred,  average='macro')\n",
        "    # accuracy_score(va_y, va_pred, normalize=False)\n",
        "    print(f'logloss: {score: 4f}')\n",
        "    # 予測\n",
        "    pred += model.predict(test_x)\n",
        "\n",
        "pred /= n_fold"
      ],
      "execution_count": 0,
      "outputs": [
        {
          "output_type": "stream",
          "text": [
            "logloss:  0.000012\n",
            "logloss:  0.000003\n",
            "logloss:  0.000260\n",
            "logloss:  0.012547\n",
            "logloss:  0.000050\n"
          ],
          "name": "stdout"
        }
      ]
    },
    {
      "cell_type": "code",
      "metadata": {
        "id": "IfOFD6ue8Gvu",
        "colab_type": "code",
        "colab": {}
      },
      "source": [
        "!cp drive/My\\ Drive/lightgbm_first.csv ./"
      ],
      "execution_count": 0,
      "outputs": []
    },
    {
      "cell_type": "code",
      "metadata": {
        "id": "kxjSsAgofk0L",
        "colab_type": "code",
        "colab": {}
      },
      "source": [
        "lightgbm_first = pd.read_csv(\"lightgbm_first.csv\")"
      ],
      "execution_count": 0,
      "outputs": []
    },
    {
      "cell_type": "code",
      "metadata": {
        "id": "VAit90tlf4cF",
        "colab_type": "code",
        "colab": {}
      },
      "source": [
        "# lightgbm_first[\"open_channels\"].valueCounts()\n",
        "lightgbm = lightgbm_first[\"open_channels\"]"
      ],
      "execution_count": 0,
      "outputs": []
    },
    {
      "cell_type": "code",
      "metadata": {
        "id": "9maeKOLSgCDw",
        "colab_type": "code",
        "outputId": "6ac66e01-b703-4724-adc1-f815d30aa61e",
        "colab": {
          "base_uri": "https://localhost:8080/",
          "height": 221
        }
      },
      "source": [
        "lightgbm.value_counts()"
      ],
      "execution_count": 0,
      "outputs": [
        {
          "output_type": "execute_result",
          "data": {
            "text/plain": [
              "0     1195024\n",
              "1      245879\n",
              "3      138300\n",
              "2      115349\n",
              "4       80176\n",
              "5       55640\n",
              "7       50602\n",
              "8       48453\n",
              "6       35596\n",
              "9       27416\n",
              "10       7565\n",
              "Name: open_channels, dtype: int64"
            ]
          },
          "metadata": {
            "tags": []
          },
          "execution_count": 131
        }
      ]
    },
    {
      "cell_type": "code",
      "metadata": {
        "id": "wX1v5H2GrfYh",
        "colab_type": "code",
        "colab": {}
      },
      "source": [
        "data = train_x[4500000:5000000]\n",
        "y1 = train['open_channels']\n",
        "y = train['open_channels'][4500000:5000000]\n",
        "test_x = test[4500000:5000000]"
      ],
      "execution_count": 0,
      "outputs": []
    },
    {
      "cell_type": "code",
      "metadata": {
        "id": "G0g2rbNZg6E5",
        "colab_type": "code",
        "outputId": "aca91033-8f34-4adf-d534-68581dd99648",
        "colab": {
          "base_uri": "https://localhost:8080/",
          "height": 1000
        }
      },
      "source": [
        "import pandas as pd\n",
        "import numpy as np\n",
        "\n",
        "\n",
        "from sklearn.model_selection import KFold\n",
        "\n",
        "from sklearn.metrics import log_loss, f1_score, accuracy_score\n",
        "# from sklearn.metrics import f1_score\n",
        "import lightgbm as lgb\n",
        "\n",
        "\n",
        "data = train_x[4990000:5000000]\n",
        "y = train['open_channels'][4990000:5000000]\n",
        "test_x = test[4990000:5000000]\n",
        "\n",
        "oof = np.zeros(len(data))\n",
        "pred = np.zeros(len(data))\n",
        "scores = []\n",
        "\n",
        "\n",
        "# Modeling\n",
        "n_fold = 5\n",
        "folds = KFold(n_splits=n_fold, shuffle=True, random_state=123)\n",
        "for n_fold, (tr_idx, va_idx) in enumerate(folds.split(data, y)):\n",
        "    tr_x,tr_y = data.iloc[tr_idx], y.iloc[tr_idx]\n",
        "    va_x,va_y = data.iloc[va_idx], y.iloc[va_idx]\n",
        "\n",
        "    # 特徴量と目的変数をlightgbmのデータ構造に変換する\n",
        "    lgb_train = lgb.Dataset(tr_x, tr_y)\n",
        "    lgb_eval = lgb.Dataset(va_x, va_y)\n",
        "\n",
        "    # ハイパーパラメータの設定\n",
        "    params = {'task': 'train',\n",
        "          'boosting_type': 'gbdt',\n",
        "          'objective': 'multiclass',\n",
        "          'metric': {'multi_logloss'},\n",
        "          'num_class': 11,\n",
        "          'learning_rate': 0.02,\n",
        "          'num_leaves': 23,\n",
        "          'min_data_in_leaf': 1,\n",
        "          'num_iteration': 1000,\n",
        "          'verbose': 0}\n",
        "    num_round = 100\n",
        "\n",
        "    # 学習の実行\n",
        "    # カテゴリ変数をパラメータで指定している\n",
        "    # バリエーションデータのモデルに渡し、学習の進行と共にスコアがどう変わるかモニタリングする\n",
        "    # categorical_features = ['product', 'medical_info_b2', 'medical_info_3']\n",
        "    model = lgb.train(params, \n",
        "                                lgb_train, num_boost_round=num_round, \n",
        "                                # categorical_features=categorical_features,\n",
        "                                valid_names=['train', 'valid'])\n",
        "                                # ,valid_sets=[lgb_train, lgb_eval]) # 時間経過と共に値を確認できる\n",
        "    \n",
        "    # バリデーションデータでのスコア確認\n",
        "    va_pred = model.predict(va_x)\n",
        "    print(va_pred)\n",
        "    # score = log_loss(va_y, va_pred)\n",
        "    # print(f1_score(va_y, va_pred, average='macro')\n",
        "    # f1_score(va_y, va_pred,  average='macro')\n",
        "    # accuracy_score(va_y, va_pred, normalize=False)\n",
        "    # print(f'logloss: {score: 4f}')\n",
        "    # print(va_pred)\n",
        "    # 予測\n",
        "    # pred += model.predict(test_x)\n",
        "\n",
        "# pred /= n_fold"
      ],
      "execution_count": 0,
      "outputs": [
        {
          "output_type": "stream",
          "text": [
            "/usr/local/lib/python3.6/dist-packages/lightgbm/engine.py:118: UserWarning: Found `num_iteration` in params. Will use it instead of argument\n",
            "  warnings.warn(\"Found `{}` in params. Will use it instead of argument\".format(alias))\n"
          ],
          "name": "stderr"
        },
        {
          "output_type": "stream",
          "text": [
            "[[2.04995911e-16 2.04995911e-16 3.39812667e-08 ... 9.75871161e-01\n",
            "  8.52575577e-05 5.16768319e-07]\n",
            " [2.25643902e-16 2.25643902e-16 3.74035844e-08 ... 2.01278180e-03\n",
            "  4.91157912e-06 5.68819249e-07]\n",
            " [2.09682798e-16 2.09682798e-16 3.47581904e-08 ... 9.98182813e-01\n",
            "  1.21189221e-03 5.28583357e-07]\n",
            " ...\n",
            " [2.53292966e-16 2.53292966e-16 5.91532010e-08 ... 6.37253909e-03\n",
            "  1.01773256e-05 9.54096475e-07]\n",
            " [1.64538863e-16 1.64538863e-16 3.84232926e-08 ... 8.98812983e-01\n",
            "  6.61118078e-06 6.19780137e-07]\n",
            " [5.26302826e-16 5.26302826e-16 1.22911275e-07 ... 8.29958827e-02\n",
            "  2.11468772e-05 1.98246196e-06]]\n",
            "[[2.56312885e-16 2.56312885e-16 8.31649530e-08 ... 9.96152513e-01\n",
            "  3.68241132e-05 7.62450228e-07]\n",
            " [3.79800957e-16 3.79800957e-16 1.23229722e-07 ... 2.38627262e-02\n",
            "  9.76092595e-01 3.80707967e-06]\n",
            " [9.16789903e-16 9.16789903e-16 2.97443598e-07 ... 3.09089729e-01\n",
            "  6.90802346e-01 9.26534463e-06]\n",
            " ...\n",
            " [3.76169421e-16 3.76169421e-16 1.63408635e-07 ... 9.72132515e-01\n",
            "  2.78244856e-02 1.84508755e-06]\n",
            " [3.09249206e-16 3.09249206e-16 1.34338380e-07 ... 9.98931863e-01\n",
            "  5.95596859e-04 1.51684807e-06]\n",
            " [1.38282713e-16 1.38282713e-16 6.00656623e-08 ... 6.56853522e-06\n",
            "  5.48611432e-06 6.78268082e-07]]\n",
            "[[4.80801265e-17 4.80801265e-17 7.42483631e-09 ... 2.86469651e-06\n",
            "  9.70291537e-07 1.89375449e-07]\n",
            " [3.92026684e-15 3.92026684e-15 6.05420203e-07 ... 3.78774665e-03\n",
            "  9.04867544e-01 9.09844121e-02]\n",
            " [4.15072333e-16 4.15072333e-16 6.41017678e-08 ... 4.01041282e-04\n",
            "  9.94582914e-01 4.97789694e-03]\n",
            " ...\n",
            " [1.00938859e-16 1.00938859e-16 1.58578204e-08 ... 4.64862218e-03\n",
            "  9.95187491e-01 1.53448550e-04]\n",
            " [9.04202170e-17 9.04202170e-17 1.42055794e-08 ... 1.81697653e-03\n",
            "  2.74073787e-06 7.09285583e-07]\n",
            " [1.65689097e-16 1.65689097e-16 2.60301383e-08 ... 8.71397598e-06\n",
            "  5.02222179e-06 1.29971915e-06]]\n",
            "[[3.38143959e-16 3.38143959e-16 5.20910600e-08 ... 1.50321925e-01\n",
            "  8.49644535e-01 1.08911941e-06]\n",
            " [1.88434432e-16 1.88434432e-16 2.90296988e-08 ... 1.02278322e-01\n",
            "  8.97702988e-01 6.06923742e-07]\n",
            " [3.91932185e-16 3.91932185e-16 6.03781802e-08 ... 6.72736224e-02\n",
            "  1.23605498e-05 1.26236456e-06]\n",
            " ...\n",
            " [3.60480968e-16 3.60480968e-16 5.55498520e-08 ... 9.97335792e-01\n",
            "  6.89818935e-04 4.94633796e-06]\n",
            " [1.04413582e-16 1.04413582e-16 1.60896540e-08 ... 2.48421219e-04\n",
            "  2.39847053e-06 1.43271049e-06]\n",
            " [7.42978351e-17 7.42978351e-17 1.14483811e-08 ... 7.98579122e-03\n",
            "  9.92006272e-01 1.01947741e-06]]\n",
            "[[1.29414225e-16 1.29414225e-16 3.06717676e-08 ... 9.86092174e-03\n",
            "  9.90118402e-01 1.08410379e-06]\n",
            " [1.81481139e-16 1.81481139e-16 4.30130112e-08 ... 9.85334861e-01\n",
            "  2.62454187e-04 4.25816455e-07]\n",
            " [2.05764190e-16 2.05764190e-16 4.87683492e-08 ... 9.75583170e-01\n",
            "  2.38095385e-02 4.82792749e-07]\n",
            " ...\n",
            " [4.37374672e-16 4.37374672e-16 1.13446403e-07 ... 9.95861514e-01\n",
            "  6.47911554e-04 3.40360257e-06]\n",
            " [2.68723247e-16 2.68723247e-16 6.97053041e-08 ... 9.93784229e-01\n",
            "  6.02100752e-03 2.09117536e-06]\n",
            " [4.88761696e-17 4.88761696e-17 1.26778709e-08 ... 3.48574056e-03\n",
            "  9.96447119e-01 6.18480502e-05]]\n"
          ],
          "name": "stdout"
        }
      ]
    },
    {
      "cell_type": "code",
      "metadata": {
        "id": "fZdcfZYon7r-",
        "colab_type": "code",
        "outputId": "236dee8e-fa70-44f3-ee4e-277a8fd7be15",
        "colab": {
          "base_uri": "https://localhost:8080/",
          "height": 170
        }
      },
      "source": [
        "np.unique(pred)"
      ],
      "execution_count": 0,
      "outputs": [
        {
          "output_type": "execute_result",
          "data": {
            "text/plain": [
              "array([0.02875025, 0.02883041, 0.02887368, 0.0288983 , 0.02890445,\n",
              "       0.02890821, 0.02891621, 0.0289579 , 0.02898541, 0.02911544,\n",
              "       0.02923517, 0.02955824, 0.02969918, 0.02980975, 0.02999833,\n",
              "       0.03003651, 0.03004007, 0.03180009, 0.03211662, 0.03354366,\n",
              "       0.03379505, 0.03381388, 0.03392412, 0.03401553, 0.03404165,\n",
              "       0.04010917, 0.05329548, 0.06020864, 0.06053532, 0.06063539,\n",
              "       0.06269652, 0.06355273, 0.08297413, 0.10693588, 0.12623509,\n",
              "       0.16194932, 0.21544734, 0.26628079, 0.32086143, 0.37574649,\n",
              "       0.42835838, 0.44575153, 0.46698434, 0.50390953, 0.51895706])"
            ]
          },
          "metadata": {
            "tags": []
          },
          "execution_count": 142
        }
      ]
    },
    {
      "cell_type": "code",
      "metadata": {
        "id": "KPWshcV4piFl",
        "colab_type": "code",
        "outputId": "81c3e281-11a8-4b18-86b3-14d741d33b24",
        "colab": {
          "base_uri": "https://localhost:8080/",
          "height": 34
        }
      },
      "source": [
        "np.unique(np.round(pred).astype(np.int))"
      ],
      "execution_count": 0,
      "outputs": [
        {
          "output_type": "execute_result",
          "data": {
            "text/plain": [
              "array([0, 1])"
            ]
          },
          "metadata": {
            "tags": []
          },
          "execution_count": 145
        }
      ]
    },
    {
      "cell_type": "code",
      "metadata": {
        "id": "d24xHDwOqgHg",
        "colab_type": "code",
        "outputId": "bc97c642-b308-42e1-953d-efefda4de9f1",
        "colab": {
          "base_uri": "https://localhost:8080/",
          "height": 221
        }
      },
      "source": [
        "y1.value_counts()"
      ],
      "execution_count": 0,
      "outputs": [
        {
          "output_type": "execute_result",
          "data": {
            "text/plain": [
              "0     1240152\n",
              "1      985865\n",
              "3      668609\n",
              "2      553924\n",
              "4      403410\n",
              "5      277877\n",
              "7      265015\n",
              "8      245183\n",
              "6      188112\n",
              "9      136120\n",
              "10      35733\n",
              "Name: open_channels, dtype: int64"
            ]
          },
          "metadata": {
            "tags": []
          },
          "execution_count": 157
        }
      ]
    },
    {
      "cell_type": "code",
      "metadata": {
        "id": "vw11H6sxqjOL",
        "colab_type": "code",
        "colab": {}
      },
      "source": [
        "import numpy as np \n",
        "import pandas as pd\n",
        "from sklearn import *\n",
        "from sklearn.metrics import f1_score\n",
        "import lightgbm as lgb\n",
        "import xgboost as xgb\n",
        "# from catboost import Pool,CatBoostRegressor\n",
        "import matplotlib.pyplot as plt\n",
        "import seaborn as sns\n",
        "import time\n",
        "import datetime\n",
        "\n",
        "sns.set_style(\"whitegrid\")\n",
        "\n",
        "from sklearn.model_selection import KFold\n",
        "\n",
        "#Constants\n",
        "ROW_PER_BATCH = 500000"
      ],
      "execution_count": 0,
      "outputs": []
    },
    {
      "cell_type": "markdown",
      "metadata": {
        "id": "eWygS4FI5Pyf",
        "colab_type": "text"
      },
      "source": [
        "## kagle notebook\n"
      ]
    },
    {
      "cell_type": "code",
      "metadata": {
        "id": "lvd2-YN65Sym",
        "colab_type": "code",
        "colab": {
          "base_uri": "https://localhost:8080/",
          "height": 181
        },
        "outputId": "ac7a3694-25d0-44e1-a7c3-aadad4cb74ea"
      },
      "source": [
        "print('Shape of train is ',train.shape)\n",
        "print('Shape of test is ',test.shape)"
      ],
      "execution_count": 2,
      "outputs": [
        {
          "output_type": "error",
          "ename": "NameError",
          "evalue": "ignored",
          "traceback": [
            "\u001b[0;31m---------------------------------------------------------------------------\u001b[0m",
            "\u001b[0;31mNameError\u001b[0m                                 Traceback (most recent call last)",
            "\u001b[0;32m<ipython-input-2-b5c8ec6fe08d>\u001b[0m in \u001b[0;36m<module>\u001b[0;34m()\u001b[0m\n\u001b[0;32m----> 1\u001b[0;31m \u001b[0mprint\u001b[0m\u001b[0;34m(\u001b[0m\u001b[0;34m'Shape of train is '\u001b[0m\u001b[0;34m,\u001b[0m\u001b[0mtrain\u001b[0m\u001b[0;34m.\u001b[0m\u001b[0mshape\u001b[0m\u001b[0;34m)\u001b[0m\u001b[0;34m\u001b[0m\u001b[0;34m\u001b[0m\u001b[0m\n\u001b[0m\u001b[1;32m      2\u001b[0m \u001b[0mprint\u001b[0m\u001b[0;34m(\u001b[0m\u001b[0;34m'Shape of test is '\u001b[0m\u001b[0;34m,\u001b[0m\u001b[0mtest\u001b[0m\u001b[0;34m.\u001b[0m\u001b[0mshape\u001b[0m\u001b[0;34m)\u001b[0m\u001b[0;34m\u001b[0m\u001b[0;34m\u001b[0m\u001b[0m\n",
            "\u001b[0;31mNameError\u001b[0m: name 'train' is not defined"
          ]
        }
      ]
    },
    {
      "cell_type": "code",
      "metadata": {
        "id": "83liIzN55n4J",
        "colab_type": "code",
        "colab": {}
      },
      "source": [
        "train['batch'] = 0\n",
        "\n",
        "for i in range(0, train.shape[0]//ROW_PER_BATCH):\n",
        "    train.iloc[i * ROW_PER_BATCH: (i+1) * ROW_PER_BATCH,3] = i"
      ],
      "execution_count": 0,
      "outputs": []
    },
    {
      "cell_type": "code",
      "metadata": {
        "id": "h4_yT2ZL5yjR",
        "colab_type": "code",
        "colab": {
          "base_uri": "https://localhost:8080/",
          "height": 51
        },
        "outputId": "4d3abf18-7c85-41da-bc8b-013dceee4538"
      },
      "source": [
        "a = 500000; b = a *2\n",
        "print( 'Before: mean: {} std: {} median: {}'.format( train.signal[a:b].mean(), train.signal[a:b].std(),train.signal[a:b].median() ) )\n",
        "\n",
        "a=500000; b=600000\n",
        "train['signal_undrifted'] = train.signal\n",
        "train.loc[train.index[a:b],'signal_undrifted'] = train.signal[a:b].values - 3*(train.time.values[a:b] - 50)/10.\n",
        "\n",
        "a = 500000; b = a *2\n",
        "print( 'After: mean: {} std: {} median: {}'.format( train.signal_undrifted[a:b].mean(), train.signal_undrifted[a:b].std(),train.signal_undrifted[a:b].median() ) )"
      ],
      "execution_count": 11,
      "outputs": [
        {
          "output_type": "stream",
          "text": [
            "Before: mean: -2.3791491212000473 std: 0.8088646165811841 median: -2.6476\n",
            "After: mean: -2.6791521212000275 std: 0.345954822354901 median: -2.7147\n"
          ],
          "name": "stdout"
        }
      ]
    },
    {
      "cell_type": "code",
      "metadata": {
        "id": "HUnbjRq-5zo3",
        "colab_type": "code",
        "colab": {}
      },
      "source": [
        "def f(x,low,high,mid): return -((-low+high)/625)*(x-mid)**2+high -low\n",
        "\n",
        "# CLEAN TRAIN BATCH 7\n",
        "batch = 7; a = 500000*(batch-1); b = 500000*batch\n",
        "train.loc[train.index[a:b],'signal_undrifted'] = train.signal.values[a:b] - f(train.time[a:b].values,-1.817,3.186,325)\n",
        "# CLEAN TRAIN BATCH 8\n",
        "batch = 8; a = 500000*(batch-1); b = 500000*batch\n",
        "train.loc[train.index[a:b],'signal_undrifted'] = train.signal.values[a:b] - f(train.time[a:b].values,-0.094,4.936,375)\n",
        "# CLEAN TRAIN BATCH 9\n",
        "batch = 9; a = 500000*(batch-1); b = 500000*batch\n",
        "train.loc[train.index[a:b],'signal_undrifted'] = train.signal.values[a:b] - f(train.time[a:b].values,1.715,6.689,425)\n",
        "# CLEAN TRAIN BATCH 10\n",
        "batch = 10; a = 500000*(batch-1); b = 500000*batch\n",
        "train.loc[train.index[a:b],'signal_undrifted'] = train.signal.values[a:b] - f(train.time[a:b].values,3.361,8.45,475)"
      ],
      "execution_count": 0,
      "outputs": []
    },
    {
      "cell_type": "code",
      "metadata": {
        "id": "XkdrucwM6T9P",
        "colab_type": "code",
        "colab": {}
      },
      "source": [
        "test['signal_undrifted'] = test.signal\n",
        "\n",
        "# REMOVE BATCH 1 DRIFT\n",
        "start=500\n",
        "a = 0; b = 100000\n",
        "test.loc[test.index[a:b],'signal_undrifted'] = test.signal.values[a:b] - 3*(test.time.values[a:b]-start)/10.\n",
        "start=510\n",
        "a = 100000; b = 200000\n",
        "test.loc[test.index[a:b],'signal_undrifted'] = test.signal.values[a:b] - 3*(test.time.values[a:b]-start)/10.\n",
        "start=540\n",
        "a = 400000; b = 500000\n",
        "test.loc[test.index[a:b],'signal_undrifted'] = test.signal.values[a:b] - 3*(test.time.values[a:b]-start)/10.\n",
        "\n",
        "# REMOVE BATCH 2 DRIFT\n",
        "start=560\n",
        "a = 600000; b = 700000\n",
        "test.loc[test.index[a:b],'signal_undrifted'] = test.signal.values[a:b] - 3*(test.time.values[a:b]-start)/10.\n",
        "start=570\n",
        "a = 700000; b = 800000\n",
        "test.loc[test.index[a:b],'signal_undrifted'] = test.signal.values[a:b] - 3*(test.time.values[a:b]-start)/10.\n",
        "start=580\n",
        "a = 800000; b = 900000\n",
        "test.loc[test.index[a:b],'signal_undrifted'] = test.signal.values[a:b] - 3*(test.time.values[a:b]-start)/10.\n",
        "\n",
        "# REMOVE BATCH 3 DRIFT\n",
        "def f(x):\n",
        "    return -(0.00788)*(x-625)**2+2.345 +2.58\n",
        "a = 1000000; b = 1500000\n",
        "test.loc[test.index[a:b],'signal_undrifted'] = test.signal.values[a:b] - f(test.time[a:b].values)"
      ],
      "execution_count": 0,
      "outputs": []
    },
    {
      "cell_type": "code",
      "metadata": {
        "id": "WNuKNu1Z6aoq",
        "colab_type": "code",
        "colab": {
          "base_uri": "https://localhost:8080/",
          "height": 370
        },
        "outputId": "dfe82b0b-9685-4480-aa5a-6f8dea00eaf2"
      },
      "source": [
        "plt.figure(figsize=(20,5))\n",
        "sns.lineplot(test.time[::1000],test.signal[::1000],color='r').set_title('Training Batches 7-10 with Parabolic Drift')\n",
        "#plt.figure(figsize=(20,5))\n",
        "g = sns.lineplot(test.time[::1000],test.signal_undrifted[::1000],color='g').set_title('Training Batches 7-10 without Parabolic Drift')\n",
        "plt.legend(title='Test Data',loc='upper right', labels=['Original Signal', 'UnDrifted Signal'])\n",
        "plt.show(g)"
      ],
      "execution_count": 14,
      "outputs": [
        {
          "output_type": "display_data",
          "data": {
            "image/png": "[encoded data removed]",
            "text/plain": [
              "<Figure size 1440x360 with 1 Axes>"
            ]
          },
          "metadata": {
            "tags": []
          }
        }
      ]
    },
    {
      "cell_type": "code",
      "metadata": {
        "id": "rIwUX8Xw6c0F",
        "colab_type": "code",
        "colab": {}
      },
      "source": [
        "# 第二のカーネル\n",
        "# https://www.kaggle.com/robikscube/ion-switching-5kfold-lgbm-tracking\n",
        "import pandas as pd\n",
        "import numpy as np\n",
        "import matplotlib.pylab as plt\n",
        "import lightgbm as lgb\n",
        "#from tqdm.notebook import tqdm\n",
        "from tqdm import tqdm\n",
        "from sklearn.model_selection import GroupKFold, KFold\n",
        "from sklearn.metrics import cohen_kappa_score, accuracy_score, mean_squared_error, f1_score\n",
        "from datetime import datetime\n",
        "import os"
      ],
      "execution_count": 0,
      "outputs": []
    },
    {
      "cell_type": "code",
      "metadata": {
        "id": "MFGbW_6p7dzl",
        "colab_type": "code",
        "colab": {}
      },
      "source": [
        "MODEL = \"sub\""
      ],
      "execution_count": 0,
      "outputs": []
    },
    {
      "cell_type": "code",
      "metadata": {
        "id": "O5Gej2x77hVJ",
        "colab_type": "code",
        "colab": {}
      },
      "source": [
        "TARGET = 'open_channels'\n",
        "\n",
        "TOTAL_FOLDS = 5\n",
        "RANDOM_SEED = 529\n",
        "MODEL_TYPE = 'LGBM'\n",
        "LEARNING_RATE = 0.009\n",
        "SHUFFLE = True\n",
        "NUM_BOOST_ROUND = 500_000\n",
        "EARLY_STOPPING_ROUNDS = 50\n",
        "N_THREADS = -1\n",
        "OBJECTIVE = 'regression'\n",
        "METRIC = 'rmse'\n",
        "NUM_LEAVES = 2**8+1\n",
        "MAX_DEPTH = -1\n",
        "FEATURE_FRACTION = 1\n",
        "BAGGING_FRACTION = 1\n",
        "BAGGING_FREQ = 0"
      ],
      "execution_count": 0,
      "outputs": []
    },
    {
      "cell_type": "code",
      "metadata": {
        "id": "-XfZiVQR7rih",
        "colab_type": "code",
        "colab": {}
      },
      "source": [
        "ss = pd.read_csv('sample_submission.csv')\n",
        "train['train'] = True\n",
        "test['train'] = False\n",
        "tt = pd.concat([train, test], sort=False).reset_index(drop=True)\n",
        "tt['train'] = tt['train'].astype('bool')"
      ],
      "execution_count": 0,
      "outputs": []
    },
    {
      "cell_type": "code",
      "metadata": {
        "id": "6SRs2Hwy77ZB",
        "colab_type": "code",
        "colab": {}
      },
      "source": [
        "###########\n",
        "# TRACKING\n",
        "###########\n",
        "\n",
        "run_id = \"{:%m%d_%H%M}\".format(datetime.now())\n",
        "\n",
        "\n",
        "def update_tracking(\n",
        "        run_id, field, value, csv_file=\"./tracking.csv\",\n",
        "        integer=False, digits=None, nround=6,\n",
        "        drop_broken_runs=False):\n",
        "    \"\"\"\n",
        "    Tracking function for keep track of model parameters and\n",
        "    CV scores. `integer` forces the value to be an int.\n",
        "    \"\"\"\n",
        "    try:\n",
        "        df = pd.read_csv(csv_file, index_col=[0])\n",
        "    except:\n",
        "        df = pd.DataFrame()\n",
        "    if drop_broken_runs:\n",
        "        df = df.dropna(subset=['1_f1'])\n",
        "    if integer:\n",
        "        value = round(value)\n",
        "    elif digits is not None:\n",
        "        value = round(value, digits)\n",
        "    df.loc[run_id, field] = value  # Model number is index\n",
        "    df = df.round(nround)\n",
        "    df.to_csv(csv_file)"
      ],
      "execution_count": 0,
      "outputs": []
    },
    {
      "cell_type": "code",
      "metadata": {
        "id": "JSY6sOSe78Wa",
        "colab_type": "code",
        "colab": {
          "base_uri": "https://localhost:8080/",
          "height": 34
        },
        "outputId": "f8933ced-df22-44bd-e1a4-47c39139cb3b"
      },
      "source": [
        "run_id"
      ],
      "execution_count": 20,
      "outputs": [
        {
          "output_type": "execute_result",
          "data": {
            "text/plain": [
              "'0317_1500'"
            ]
          },
          "metadata": {
            "tags": []
          },
          "execution_count": 20
        }
      ]
    },
    {
      "cell_type": "code",
      "metadata": {
        "id": "DDZcmQft8EhC",
        "colab_type": "code",
        "colab": {
          "base_uri": "https://localhost:8080/",
          "height": 71
        },
        "outputId": "55bbac7a-9886-48c9-eeac-4b89143bd839"
      },
      "source": [
        "# Update Tracking\n",
        "update_tracking(run_id, 'model_number', MODEL)\n",
        "update_tracking(run_id, 'model_type', MODEL_TYPE)\n",
        "update_tracking(run_id, 'seed', RANDOM_SEED, integer=True)\n",
        "update_tracking(run_id, 'nfolds', TOTAL_FOLDS, integer=True)\n",
        "update_tracking(run_id, 'lr', LEARNING_RATE)\n",
        "update_tracking(run_id, 'shuffle', SHUFFLE)\n",
        "update_tracking(run_id, 'boost_rounds', NUM_BOOST_ROUND)\n",
        "update_tracking(run_id, 'es_rounds', EARLY_STOPPING_ROUNDS)\n",
        "update_tracking(run_id, 'threads', N_THREADS)\n",
        "update_tracking(run_id, 'objective', OBJECTIVE)\n",
        "update_tracking(run_id, 'metric', METRIC)\n",
        "update_tracking(run_id, 'num_leaves', NUM_LEAVES)\n",
        "update_tracking(run_id, 'max_depth', MAX_DEPTH)\n",
        "update_tracking(run_id, 'feature_fraction', FEATURE_FRACTION)\n",
        "update_tracking(run_id, 'bagging_fraction', BAGGING_FRACTION)\n",
        "update_tracking(run_id, 'bagging_freq', BAGGING_FREQ)\n",
        "\n",
        "###########\n",
        "# FEATURES\n",
        "###########\n",
        "\n",
        "# # Include batch\n",
        "tt = tt.sort_values(by=['time']).reset_index(drop=True)\n",
        "tt.index = ((tt.time * 10_000) - 1).values\n",
        "tt['batch'] = tt.index // 50_000\n",
        "tt['batch_index'] = tt.index - (tt.batch * 50_000)\n",
        "tt['batch_slices'] = tt['batch_index'] // 5_000\n",
        "tt['batch_slices2'] = tt.apply(lambda r: '_'.join(\n",
        "    [str(r['batch']).zfill(3), str(r['batch_slices']).zfill(3)]), axis=1)\n",
        "\n",
        "# 50_000 Batch Features\n",
        "tt['signal_batch_min'] = tt.groupby('batch')['signal_undrifted'].transform('min')\n",
        "tt['signal_batch_max'] = tt.groupby('batch')['signal_undrifted'].transform('max')\n",
        "tt['signal_batch_std'] = tt.groupby('batch')['signal_undrifted'].transform('std')\n",
        "tt['signal_batch_mean'] = tt.groupby('batch')['signal_undrifted'].transform('mean')\n",
        "tt['mean_abs_chg_batch'] = tt.groupby(['batch'])['signal_undrifted'].transform(\n",
        "    lambda x: np.mean(np.abs(np.diff(x))))\n",
        "tt['abs_max_batch'] = tt.groupby(\n",
        "    ['batch'])['signal_undrifted'].transform(lambda x: np.max(np.abs(x)))\n",
        "tt['abs_min_batch'] = tt.groupby(\n",
        "    ['batch'])['signal_undrifted'].transform(lambda x: np.min(np.abs(x)))\n",
        "\n",
        "tt['range_batch'] = tt['signal_batch_max'] - tt['signal_batch_min']\n",
        "tt['maxtomin_batch'] = tt['signal_batch_max'] / tt['signal_batch_min']\n",
        "tt['abs_avg_batch'] = (tt['abs_min_batch'] + tt['abs_max_batch']) / 2\n",
        "\n",
        "# 5_000 Batch Features\n",
        "tt['signal_batch_5k_min'] = tt.groupby(\n",
        "    'batch_slices2')['signal_undrifted'].transform('min')\n",
        "tt['signal_batch_5k_max'] = tt.groupby(\n",
        "    'batch_slices2')['signal_undrifted'].transform('max')\n",
        "tt['signal_batch_5k_std'] = tt.groupby(\n",
        "    'batch_slices2')['signal_undrifted'].transform('std')\n",
        "tt['signal_batch_5k_mean'] = tt.groupby(\n",
        "    'batch_slices2')['signal_undrifted'].transform('mean')\n",
        "tt['mean_abs_chg_batch_5k'] = tt.groupby(['batch_slices2'])[\n",
        "    'signal_undrifted'].transform(lambda x: np.mean(np.abs(np.diff(x))))\n",
        "tt['abs_max_batch_5k'] = tt.groupby(['batch_slices2'])[\n",
        "    'signal_undrifted'].transform(lambda x: np.max(np.abs(x)))\n",
        "tt['abs_min_batch_5k'] = tt.groupby(['batch_slices2'])[\n",
        "    'signal_undrifted'].transform(lambda x: np.min(np.abs(x)))\n",
        "\n",
        "tt['range_batch_5k'] = tt['signal_batch_5k_max'] - tt['signal_batch_5k_min']\n",
        "tt['maxtomin_batch_5k'] = tt['signal_batch_5k_max'] / tt['signal_batch_5k_min']\n",
        "tt['abs_avg_batch_5k'] = (tt['abs_min_batch_5k'] + tt['abs_max_batch_5k']) / 2\n",
        "\n",
        "\n",
        "# add shifts\n",
        "tt['signal_shift+1'] = tt.groupby(['batch']).shift(1)['signal_undrifted']\n",
        "tt['signal_shift-1'] = tt.groupby(['batch']).shift(-1)['signal_undrifted']\n",
        "tt['signal_shift+2'] = tt.groupby(['batch']).shift(2)['signal_undrifted']\n",
        "tt['signal_shift-2'] = tt.groupby(['batch']).shift(-2)['signal_undrifted']\n",
        "\n",
        "for c in ['signal_batch_min', 'signal_batch_max',\n",
        "          'signal_batch_std', 'signal_batch_mean',\n",
        "          'mean_abs_chg_batch', 'abs_max_batch',\n",
        "          'abs_min_batch',\n",
        "          'range_batch', 'maxtomin_batch', 'abs_avg_batch',\n",
        "          'signal_shift+1', 'signal_shift-1',\n",
        "          'signal_batch_5k_min', 'signal_batch_5k_max',\n",
        "          'signal_batch_5k_std',\n",
        "          'signal_batch_5k_mean', 'mean_abs_chg_batch_5k',\n",
        "          'abs_max_batch_5k', 'abs_min_batch_5k',\n",
        "          'range_batch_5k', 'maxtomin_batch_5k',\n",
        "          'abs_avg_batch_5k','signal_shift+2','signal_shift-2']:\n",
        "    tt[f'{c}_msignal'] = tt[c] - tt['signal']\n",
        "\n",
        "\n",
        "# FEATURES = [f for f in tt.columns if f not in ['open_channels','index','time','train','batch',\n",
        "#                                                'batch_index','batch_slices','batch_slices2']]\n",
        "\n",
        "\n",
        "FEATURES = ['signal_undrifted',\n",
        "            'signal_batch_min',\n",
        "            'signal_batch_max',\n",
        "            'signal_batch_std',\n",
        "            'signal_batch_mean',\n",
        "            'mean_abs_chg_batch',\n",
        "            #'abs_max_batch',\n",
        "            #'abs_min_batch',\n",
        "            #'abs_avg_batch',\n",
        "            'range_batch',\n",
        "            'maxtomin_batch',\n",
        "            'signal_batch_5k_min',\n",
        "            'signal_batch_5k_max',\n",
        "            'signal_batch_5k_std',\n",
        "            'signal_batch_5k_mean',\n",
        "            'mean_abs_chg_batch_5k',\n",
        "            'abs_max_batch_5k',\n",
        "            'abs_min_batch_5k',\n",
        "            'range_batch_5k',\n",
        "            'maxtomin_batch_5k',\n",
        "            'abs_avg_batch_5k',\n",
        "            'signal_shift+1',\n",
        "            'signal_shift-1',\n",
        "            # 'signal_batch_min_msignal',\n",
        "            'signal_batch_max_msignal',\n",
        "            'signal_batch_std_msignal',\n",
        "            # 'signal_batch_mean_msignal',\n",
        "            'mean_abs_chg_batch_msignal',\n",
        "            'abs_max_batch_msignal',\n",
        "            'abs_min_batch_msignal',\n",
        "            'range_batch_msignal',\n",
        "            'maxtomin_batch_msignal',\n",
        "            'abs_avg_batch_msignal',\n",
        "            'signal_shift+1_msignal',\n",
        "            'signal_shift-1_msignal',\n",
        "            'signal_batch_5k_min_msignal',\n",
        "            'signal_batch_5k_max_msignal',\n",
        "            'signal_batch_5k_std_msignal',\n",
        "            'signal_batch_5k_mean_msignal',\n",
        "            'mean_abs_chg_batch_5k_msignal',\n",
        "            'abs_max_batch_5k_msignal',\n",
        "            'abs_min_batch_5k_msignal',\n",
        "            #'range_batch_5k_msignal',\n",
        "            'maxtomin_batch_5k_msignal',\n",
        "            'abs_avg_batch_5k_msignal',\n",
        "            'signal_shift+2',\n",
        "            'signal_shift-2']\n",
        "\n",
        "print('....: FEATURE LIST :....')\n",
        "print([f for f in FEATURES])\n",
        "\n",
        "update_tracking(run_id, 'n_features', len(FEATURES), integer=True)\n",
        "update_tracking(run_id, 'target', TARGET)\n",
        "\n",
        "###########\n",
        "# Metric\n",
        "###########\n",
        "\n",
        "\n",
        "def lgb_Metric(preds, dtrain):\n",
        "    labels = dtrain.get_label()\n",
        "    print(preds.shape)\n",
        "    print(preds)\n",
        "    preds = np.argmax(preds, axis=0)\n",
        "#     score = metrics.cohen_kappa_score(labels, preds, weights = 'quadratic')\n",
        "    score = f1_score(labels, preds, average='macro')\n",
        "    return ('KaggleMetric', score, True)"
      ],
      "execution_count": 21,
      "outputs": [
        {
          "output_type": "stream",
          "text": [
            "....: FEATURE LIST :....\n",
            "['signal_undrifted', 'signal_batch_min', 'signal_batch_max', 'signal_batch_std', 'signal_batch_mean', 'mean_abs_chg_batch', 'range_batch', 'maxtomin_batch', 'signal_batch_5k_min', 'signal_batch_5k_max', 'signal_batch_5k_std', 'signal_batch_5k_mean', 'mean_abs_chg_batch_5k', 'abs_max_batch_5k', 'abs_min_batch_5k', 'range_batch_5k', 'maxtomin_batch_5k', 'abs_avg_batch_5k', 'signal_shift+1', 'signal_shift-1', 'signal_batch_max_msignal', 'signal_batch_std_msignal', 'mean_abs_chg_batch_msignal', 'abs_max_batch_msignal', 'abs_min_batch_msignal', 'range_batch_msignal', 'maxtomin_batch_msignal', 'abs_avg_batch_msignal', 'signal_shift+1_msignal', 'signal_shift-1_msignal', 'signal_batch_5k_min_msignal', 'signal_batch_5k_max_msignal', 'signal_batch_5k_std_msignal', 'signal_batch_5k_mean_msignal', 'mean_abs_chg_batch_5k_msignal', 'abs_max_batch_5k_msignal', 'abs_min_batch_5k_msignal', 'maxtomin_batch_5k_msignal', 'abs_avg_batch_5k_msignal', 'signal_shift+2', 'signal_shift-2']\n"
          ],
          "name": "stdout"
        }
      ]
    },
    {
      "cell_type": "code",
      "metadata": {
        "id": "wordPgBu9M7l",
        "colab_type": "code",
        "colab": {
          "base_uri": "https://localhost:8080/",
          "height": 232
        },
        "outputId": "2365d4cf-7805-487a-857e-de6f6445c8eb"
      },
      "source": [
        "###########\n",
        "# MODEL\n",
        "###########\n",
        "tt['train'] = tt['train'].astype('bool')\n",
        "train = tt.query('train').copy()\n",
        "test = tt.query('not train').copy()\n",
        "train['open_channels'] = train['open_channels'].astype(int)\n",
        "X = train[FEATURES]\n",
        "X_test = test[FEATURES]\n",
        "y = train[TARGET].values\n",
        "sub = test[['time']].copy()\n",
        "groups = train['batch']\n",
        "\n",
        "if OBJECTIVE == 'multiclass':\n",
        "    NUM_CLASS = 11\n",
        "else:\n",
        "    NUM_CLASS = 1\n",
        "\n",
        "# define hyperparammeter (some random hyperparammeters)\n",
        "params = {'learning_rate': LEARNING_RATE,\n",
        "          'max_depth': MAX_DEPTH,\n",
        "          'num_leaves': NUM_LEAVES,\n",
        "          'feature_fraction': FEATURE_FRACTION,\n",
        "          'bagging_fraction': BAGGING_FRACTION,\n",
        "          'bagging_freq': BAGGING_FREQ,\n",
        "          'n_jobs': N_THREADS,\n",
        "          'seed': RANDOM_SEED,\n",
        "          'metric': METRIC,\n",
        "          'objective': OBJECTIVE,\n",
        "          'num_class': NUM_CLASS\n",
        "          }\n",
        "\n",
        "kfold = KFold(n_splits=TOTAL_FOLDS, shuffle=SHUFFLE, random_state=RANDOM_SEED)\n",
        "\n",
        "oof_df = train[['signal_undrifted', 'open_channels']].copy()\n",
        "fi_df = pd.DataFrame(index=FEATURES)\n",
        "\n",
        "fold = 1  # init fold counter\n",
        "for tr_idx, val_idx in kfold.split(X, y, groups=groups):\n",
        "    print(f'====== Fold {fold:0.0f} of {TOTAL_FOLDS} ======')\n",
        "    X_tr, X_val = X.iloc[tr_idx], X.iloc[val_idx]\n",
        "    y_tr, y_val = y[tr_idx], y[val_idx]\n",
        "    train_set = lgb.Dataset(X_tr, y_tr)\n",
        "    val_set = lgb.Dataset(X_val, y_val)\n",
        "\n",
        "    model = lgb.train(params,\n",
        "                      train_set,\n",
        "                      num_boost_round=NUM_BOOST_ROUND,\n",
        "                      early_stopping_rounds=EARLY_STOPPING_ROUNDS,\n",
        "                      valid_sets=[train_set, val_set],\n",
        "                      verbose_eval=50)\n",
        "    # feval=lgb_Metric)\n",
        "\n",
        "    if OBJECTIVE == 'multi_class':\n",
        "        preds = model.predict(X_val, num_iteration=model.best_iteration)\n",
        "        preds = np.argmax(preds, axis=1)\n",
        "        test_preds = model.predict(X_test, num_iteration=model.best_iteration)\n",
        "        test_preds = np.argmax(test_preds, axis=1)\n",
        "    elif OBJECTIVE == 'regression':\n",
        "        preds = model.predict(X_val, num_iteration=model.best_iteration)\n",
        "        preds = np.round(np.clip(preds, 0, 10)).astype(int)\n",
        "        test_preds = model.predict(X_test, num_iteration=model.best_iteration)\n",
        "        test_preds = np.round(np.clip(test_preds, 0, 10)).astype(int)\n",
        "\n",
        "    oof_df.loc[oof_df.iloc[val_idx].index, 'oof'] = preds\n",
        "    sub[f'open_channels_fold{fold}'] = test_preds\n",
        "\n",
        "    f1 = f1_score(oof_df.loc[oof_df.iloc[val_idx].index]['open_channels'],\n",
        "                  oof_df.loc[oof_df.iloc[val_idx].index]['oof'],\n",
        "                  average='macro')\n",
        "    rmse = np.sqrt(mean_squared_error(oof_df.loc[oof_df.index.isin(val_idx)]['open_channels'],\n",
        "                                      oof_df.loc[oof_df.index.isin(val_idx)]['oof']))\n",
        "\n",
        "    update_tracking(run_id, f'{fold}_best_iter', model.best_iteration, integer=True)\n",
        "    update_tracking(run_id, f'{fold}_rmse', rmse)\n",
        "    update_tracking(run_id, f'{fold}_f1', f1)\n",
        "    fi_df[f'importance_{fold}'] = model.feature_importance()\n",
        "    print(f'Fold {fold} - validation f1: {f1:0.5f}')\n",
        "    print(f'Fold {fold} - validation rmse: {rmse:0.5f}')\n",
        "\n",
        "    fold += 1\n",
        "\n",
        "oof_f1 = f1_score(oof_df['open_channels'],\n",
        "                  oof_df['oof'],\n",
        "                  average='macro')\n",
        "oof_rmse = np.sqrt(mean_squared_error(oof_df['open_channels'],\n",
        "                                      oof_df['oof']))\n",
        "\n",
        "update_tracking(run_id, f'oof_f1', oof_f1)\n",
        "update_tracking(run_id, f'oof_rmse', oof_rmse)\n",
        "\n",
        "###############\n",
        "# SAVE RESULTS\n",
        "###############\n",
        "\n",
        "s_cols = [s for s in sub.columns if 'open_channels' in s]\n",
        "\n",
        "sub['open_channels'] = sub[s_cols].median(axis=1).astype(int)\n",
        "sub.to_csv(f'./pred_2020_0317.csv', index=False)\n",
        "sub[['time', 'open_channels']].to_csv(f'./sub_2020_0317.csv',\n",
        "                                      index=False,\n",
        "                                      float_format='%0.4f')\n",
        "\n",
        "upload_file_2 = drive.CreateFile()\n",
        "upload_file_2.SetContentFile(\"pred_2020_0317.csv\")\n",
        "upload_file_2.Upload()\n",
        "# submitする時\n",
        "!kaggle competitions submit -c titanic -f pred_2020_0317.csv -m \"second submit\"\n",
        "\n",
        "oof_df.to_csv(f'./oof__2020_0317.csv', index=False)\n",
        "\n",
        "fi_df['importance'] = fi_df.sum(axis=1)\n",
        "fi_df.to_csv(f'./fi__2020_0317.csv', index=True)\n",
        "\n",
        "\n",
        "\n",
        "fig, ax = plt.subplots(figsize=(15, 30))\n",
        "fi_df.sort_values('importance')['importance'] \\\n",
        "    .plot(kind='barh',\n",
        "          figsize=(15, 30),\n",
        "          title=f'{MODEL} - Feature Importance',\n",
        "          ax=ax)\n",
        "plt.savefig(f'./{MODEL}__{oof_f1:0.6}.png')\n"
      ],
      "execution_count": 1,
      "outputs": [
        {
          "output_type": "error",
          "ename": "NameError",
          "evalue": "ignored",
          "traceback": [
            "\u001b[0;31m---------------------------------------------------------------------------\u001b[0m",
            "\u001b[0;31mNameError\u001b[0m                                 Traceback (most recent call last)",
            "\u001b[0;32m<ipython-input-1-3e92330ed715>\u001b[0m in \u001b[0;36m<module>\u001b[0;34m()\u001b[0m\n\u001b[0;32m----> 1\u001b[0;31m \u001b[0mtt\u001b[0m\u001b[0;34m[\u001b[0m\u001b[0;34m'train'\u001b[0m\u001b[0;34m]\u001b[0m \u001b[0;34m=\u001b[0m \u001b[0mtt\u001b[0m\u001b[0;34m[\u001b[0m\u001b[0;34m'train'\u001b[0m\u001b[0;34m]\u001b[0m\u001b[0;34m.\u001b[0m\u001b[0mastype\u001b[0m\u001b[0;34m(\u001b[0m\u001b[0;34m'bool'\u001b[0m\u001b[0;34m)\u001b[0m\u001b[0;34m\u001b[0m\u001b[0;34m\u001b[0m\u001b[0m\n\u001b[0m\u001b[1;32m      2\u001b[0m \u001b[0mtrain\u001b[0m \u001b[0;34m=\u001b[0m \u001b[0mtt\u001b[0m\u001b[0;34m.\u001b[0m\u001b[0mquery\u001b[0m\u001b[0;34m(\u001b[0m\u001b[0;34m'train'\u001b[0m\u001b[0;34m)\u001b[0m\u001b[0;34m.\u001b[0m\u001b[0mcopy\u001b[0m\u001b[0;34m(\u001b[0m\u001b[0;34m)\u001b[0m\u001b[0;34m\u001b[0m\u001b[0;34m\u001b[0m\u001b[0m\n\u001b[1;32m      3\u001b[0m \u001b[0mtest\u001b[0m \u001b[0;34m=\u001b[0m \u001b[0mtt\u001b[0m\u001b[0;34m.\u001b[0m\u001b[0mquery\u001b[0m\u001b[0;34m(\u001b[0m\u001b[0;34m'not train'\u001b[0m\u001b[0;34m)\u001b[0m\u001b[0;34m.\u001b[0m\u001b[0mcopy\u001b[0m\u001b[0;34m(\u001b[0m\u001b[0;34m)\u001b[0m\u001b[0;34m\u001b[0m\u001b[0;34m\u001b[0m\u001b[0m\n\u001b[1;32m      4\u001b[0m \u001b[0mtrain\u001b[0m\u001b[0;34m[\u001b[0m\u001b[0;34m'open_channels'\u001b[0m\u001b[0;34m]\u001b[0m \u001b[0;34m=\u001b[0m \u001b[0mtrain\u001b[0m\u001b[0;34m[\u001b[0m\u001b[0;34m'open_channels'\u001b[0m\u001b[0;34m]\u001b[0m\u001b[0;34m.\u001b[0m\u001b[0mastype\u001b[0m\u001b[0;34m(\u001b[0m\u001b[0mint\u001b[0m\u001b[0;34m)\u001b[0m\u001b[0;34m\u001b[0m\u001b[0;34m\u001b[0m\u001b[0m\n\u001b[1;32m      5\u001b[0m \u001b[0mX\u001b[0m \u001b[0;34m=\u001b[0m \u001b[0mtrain\u001b[0m\u001b[0;34m[\u001b[0m\u001b[0mFEATURES\u001b[0m\u001b[0;34m]\u001b[0m\u001b[0;34m\u001b[0m\u001b[0;34m\u001b[0m\u001b[0m\n",
            "\u001b[0;31mNameError\u001b[0m: name 'tt' is not defined"
          ]
        }
      ]
    },
    {
      "cell_type": "code",
      "metadata": {
        "id": "DGBsnVWM94qH",
        "colab_type": "code",
        "colab": {}
      },
      "source": [
        "upload_file_2 = drive.CreateFile()\n",
        "upload_file_2.SetContentFile(\"sample_submission.csv\")\n",
        "upload_file_2.Upload()"
      ],
      "execution_count": 0,
      "outputs": []
    },
    {
      "cell_type": "code",
      "metadata": {
        "id": "eGW7fSzm_Amm",
        "colab_type": "code",
        "colab": {
          "base_uri": "https://localhost:8080/",
          "height": 68
        },
        "outputId": "5abbd7cf-5ac1-45b1-9572-62c80be8489b"
      },
      "source": [
        "!ls"
      ],
      "execution_count": 29,
      "outputs": [
        {
          "output_type": "stream",
          "text": [
            "adc.json     sample_data\t\ttest.csv      train.csv\n",
            "drive\t     sample_submission.csv\ttest.csv.zip  train.csv.zip\n",
            "kaggle.json  sample_submission.csv.zip\ttracking.csv\n"
          ],
          "name": "stdout"
        }
      ]
    },
    {
      "cell_type": "code",
      "metadata": {
        "id": "ToGwAjrE_CA-",
        "colab_type": "code",
        "colab": {
          "base_uri": "https://localhost:8080/",
          "height": 164
        },
        "outputId": "600b3513-a078-406c-f20c-847f210bf9f8"
      },
      "source": [
        "train"
      ],
      "execution_count": 2,
      "outputs": [
        {
          "output_type": "error",
          "ename": "NameError",
          "evalue": "ignored",
          "traceback": [
            "\u001b[0;31m---------------------------------------------------------------------------\u001b[0m",
            "\u001b[0;31mNameError\u001b[0m                                 Traceback (most recent call last)",
            "\u001b[0;32m<ipython-input-2-3536571a9bc3>\u001b[0m in \u001b[0;36m<module>\u001b[0;34m()\u001b[0m\n\u001b[0;32m----> 1\u001b[0;31m \u001b[0mtrain\u001b[0m\u001b[0;34m\u001b[0m\u001b[0;34m\u001b[0m\u001b[0m\n\u001b[0m",
            "\u001b[0;31mNameError\u001b[0m: name 'train' is not defined"
          ]
        }
      ]
    },
    {
      "cell_type": "code",
      "metadata": {
        "id": "w5xMPc73AVoj",
        "colab_type": "code",
        "colab": {}
      },
      "source": [
        ""
      ],
      "execution_count": 0,
      "outputs": []
    }
  ]
}