{
  "nbformat": 4,
  "nbformat_minor": 0,
  "metadata": {
    "colab": {
      "name": "kaggle_ion_switching.ipynb",
      "provenance": [],
      "mount_file_id": "1k5vnEYJBqecj7JeA9B7qi1nEcalTTmKc",
      "authorship_tag": "ABX9TyNo61yNbdYxbPbdYT3vxmEl",
      "include_colab_link": true
    },
    "kernelspec": {
      "name": "python3",
      "display_name": "Python 3"
    },
    "accelerator": "GPU"
  },
  "cells": [
    {
      "cell_type": "markdown",
      "metadata": {
        "id": "view-in-github",
        "colab_type": "text"
      },
      "source": [
        "<a href=\"https://colab.research.google.com/github/Beluuuuuuga/python_machine_learning_2nd_edition/blob/master/kaggle_ion_switching.ipynb\" target=\"_parent\"><img src=\"https://colab.research.google.com/assets/colab-badge.svg\" alt=\"Open In Colab\"/></a>"
      ]
    },
    {
      "cell_type": "code",
      "metadata": {
        "id": "TqR62TLIALRi",
        "colab_type": "code",
        "colab": {}
      },
      "source": [
        "# Google driveにファイル保存する用\n",
        "!pip install -U -q PyDrive\n",
        "\n",
        "from pydrive.auth import GoogleAuth\n",
        "from pydrive.drive import GoogleDrive\n",
        "from google.colab import auth\n",
        "from oauth2client.client import GoogleCredentials\n",
        "\n",
        "auth.authenticate_user()\n",
        "gauth = GoogleAuth()\n",
        "gauth.credentials = GoogleCredentials.get_application_default()\n",
        "drive = GoogleDrive(gauth)\n",
        "# 4/wwEVHBbLp_T5iqhskY-swvFHQ_O_x3PvyYcgC8mQkXYW4H14lP9mwa0"
      ],
      "execution_count": 0,
      "outputs": []
    },
    {
      "cell_type": "code",
      "metadata": {
        "id": "WT4tXqwK8ZHY",
        "colab_type": "code",
        "colab": {
          "resources": {
            "http://localhost:8080/nbextensions/google.colab/files.js": {
              "data": "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",
              "ok": true,
              "headers": [
                [
                  "content-type",
                  "application/javascript"
                ]
              ],
              "status": 200,
              "status_text": ""
            }
          },
          "base_uri": "https://localhost:8080/",
          "height": 105
        },
        "outputId": "c6dc2a01-092e-4f0f-bd52-71008680d1fe"
      },
      "source": [
        "# kaggle API使用\n",
        "from google.colab import files\n",
        "files.upload()\n",
        "!mkdir ~/.kaggle\n",
        "!cp /content/kaggle.json ~/.kaggle/kaggle.json\n",
        "!ls ~/.kaggle/\n",
        "!chmod 600 ~/.kaggle/kaggle.json"
      ],
      "execution_count": 7,
      "outputs": [
        {
          "output_type": "display_data",
          "data": {
            "text/html": [
              "\n",
              "     <input type=\"file\" id=\"files-8a90e0d1-41d1-4632-abe8-7e56d9f1e6f4\" name=\"files[]\" multiple disabled />\n",
              "     <output id=\"result-8a90e0d1-41d1-4632-abe8-7e56d9f1e6f4\">\n",
              "      Upload widget is only available when the cell has been executed in the\n",
              "      current browser session. Please rerun this cell to enable.\n",
              "      </output>\n",
              "      <script src=\"/nbextensions/google.colab/files.js\"></script> "
            ],
            "text/plain": [
              "<IPython.core.display.HTML object>"
            ]
          },
          "metadata": {
            "tags": []
          }
        },
        {
          "output_type": "stream",
          "text": [
            "Saving kaggle.json to kaggle.json\n",
            "mkdir: cannot create directory ‘/root/.kaggle’: File exists\n",
            "kaggle.json\n"
          ],
          "name": "stdout"
        }
      ]
    },
    {
      "cell_type": "code",
      "metadata": {
        "id": "FVJIIk3f8ye0",
        "colab_type": "code",
        "colab": {
          "base_uri": "https://localhost:8080/",
          "height": 408
        },
        "outputId": "6b3a59ce-fa13-410f-c52f-4e9ca470f7f6"
      },
      "source": [
        "# 使用を確認\n",
        "!kaggle competitions list"
      ],
      "execution_count": 8,
      "outputs": [
        {
          "output_type": "stream",
          "text": [
            "Warning: Looks like you're using an outdated API Version, please consider updating (server 1.5.6 / client 1.5.4)\n",
            "ref                                                                deadline             category             reward  teamCount  userHasEntered  \n",
            "-----------------------------------------------------------------  -------------------  ---------------  ----------  ---------  --------------  \n",
            "digit-recognizer                                                   2030-01-01 00:00:00  Getting Started   Knowledge       2290            True  \n",
            "titanic                                                            2030-01-01 00:00:00  Getting Started   Knowledge      16542            True  \n",
            "house-prices-advanced-regression-techniques                        2030-01-01 00:00:00  Getting Started   Knowledge       4646           False  \n",
            "connectx                                                           2030-01-01 00:00:00  Getting Started   Knowledge        439           False  \n",
            "competitive-data-science-predict-future-sales                      2020-12-31 23:59:00  Playground            Kudos       5886            True  \n",
            "m5-forecasting-accuracy                                            2020-06-30 23:59:00  Featured            $50,000        281           False  \n",
            "m5-forecasting-uncertainty                                         2020-06-30 23:59:00  Featured            $50,000          0           False  \n",
            "abstraction-and-reasoning-challenge                                2020-05-27 23:59:00  Research            $20,000        334           False  \n",
            "liverpool-ion-switching                                            2020-05-25 23:59:00  Research            $25,000        630            True  \n",
            "flower-classification-with-tpus                                    2020-05-11 23:59:00  Playground           Prizes        295           False  \n",
            "march-madness-analytics-2020                                       2020-04-06 23:59:00  Analytics           $25,000          0           False  \n",
            "deepfake-detection-challenge                                       2020-03-31 23:59:00  Featured         $1,000,000       2026           False  \n",
            "cat-in-the-dat-ii                                                  2020-03-31 23:59:00  Playground             Swag        826           False  \n",
            "imagenet-object-localization-challenge                             2020-03-26 23:59:00  Research          Knowledge         67           False  \n",
            "ds4g-environmental-insights-explorer                               2020-03-24 23:59:00  Analytics           $25,000          0           False  \n",
            "nlp-getting-started                                                2020-03-23 23:59:00  Getting Started     $10,000       3339           False  \n",
            "google-cloud-ncaa-march-madness-2020-division-1-womens-tournament  2020-03-20 15:00:00  Featured            $25,000        303           False  \n",
            "google-cloud-ncaa-march-madness-2020-division-1-mens-tournament    2020-03-19 15:00:00  Featured            $25,000        581           False  \n",
            "bengaliai-cv19                                                     2020-03-16 23:59:00  Research            $10,000       1851           False  \n",
            "google-quest-challenge                                             2020-02-10 23:59:00  Featured            $25,000       1571           False  \n"
          ],
          "name": "stdout"
        }
      ]
    },
    {
      "cell_type": "code",
      "metadata": {
        "id": "UoOYwKVX9daL",
        "colab_type": "code",
        "colab": {
          "base_uri": "https://localhost:8080/",
          "height": 289
        },
        "outputId": "e4a99080-4169-4b60-b61c-621d0bc57b90"
      },
      "source": [
        "# Ion Switchingのデータをダウンロード、アンジップ\n",
        "!kaggle competitions download -c liverpool-ion-switching\n",
        "!unzip sample_submission.csv.zip\n",
        "!unzip train.csv.zip\n",
        "!unzip test.csv.zip"
      ],
      "execution_count": 9,
      "outputs": [
        {
          "output_type": "stream",
          "text": [
            "Warning: Looks like you're using an outdated API Version, please consider updating (server 1.5.6 / client 1.5.4)\n",
            "Downloading test.csv.zip to /content\n",
            " 91% 9.00M/9.91M [00:00<00:00, 17.0MB/s]\n",
            "100% 9.91M/9.91M [00:00<00:00, 18.4MB/s]\n",
            "Downloading train.csv.zip to /content\n",
            " 64% 17.0M/26.6M [00:01<00:00, 12.5MB/s]\n",
            "100% 26.6M/26.6M [00:01<00:00, 16.2MB/s]\n",
            "Downloading sample_submission.csv.zip to /content\n",
            "100% 4.27M/4.27M [00:00<00:00, 21.3MB/s]\n",
            "\n",
            "Archive:  sample_submission.csv.zip\n",
            "  inflating: sample_submission.csv   \n",
            "Archive:  train.csv.zip\n",
            "  inflating: train.csv               \n",
            "Archive:  test.csv.zip\n",
            "  inflating: test.csv                \n"
          ],
          "name": "stdout"
        }
      ]
    },
    {
      "cell_type": "code",
      "metadata": {
        "id": "BtFAk8ELfiLT",
        "colab_type": "code",
        "colab": {}
      },
      "source": [
        "import pandas as pd\n",
        "import numpy as np"
      ],
      "execution_count": 0,
      "outputs": []
    },
    {
      "cell_type": "code",
      "metadata": {
        "id": "kx0yxge09uc1",
        "colab_type": "code",
        "colab": {
          "base_uri": "https://localhost:8080/",
          "height": 419
        },
        "outputId": "44aaec44-47d4-4219-ff58-832245b4c5bf"
      },
      "source": [
        "train =  pd.read_csv(\"train.csv\")\n",
        "test = pd.read_csv(\"test.csv\")\n",
        "test"
      ],
      "execution_count": 11,
      "outputs": [
        {
          "output_type": "execute_result",
          "data": {
            "text/html": [
              "<div>\n",
              "<style scoped>\n",
              "    .dataframe tbody tr th:only-of-type {\n",
              "        vertical-align: middle;\n",
              "    }\n",
              "\n",
              "    .dataframe tbody tr th {\n",
              "        vertical-align: top;\n",
              "    }\n",
              "\n",
              "    .dataframe thead th {\n",
              "        text-align: right;\n",
              "    }\n",
              "</style>\n",
              "<table border=\"1\" class=\"dataframe\">\n",
              "  <thead>\n",
              "    <tr style=\"text-align: right;\">\n",
              "      <th></th>\n",
              "      <th>time</th>\n",
              "      <th>signal</th>\n",
              "    </tr>\n",
              "  </thead>\n",
              "  <tbody>\n",
              "    <tr>\n",
              "      <th>0</th>\n",
              "      <td>500.0001</td>\n",
              "      <td>-2.6498</td>\n",
              "    </tr>\n",
              "    <tr>\n",
              "      <th>1</th>\n",
              "      <td>500.0002</td>\n",
              "      <td>-2.8494</td>\n",
              "    </tr>\n",
              "    <tr>\n",
              "      <th>2</th>\n",
              "      <td>500.0003</td>\n",
              "      <td>-2.8600</td>\n",
              "    </tr>\n",
              "    <tr>\n",
              "      <th>3</th>\n",
              "      <td>500.0004</td>\n",
              "      <td>-2.4350</td>\n",
              "    </tr>\n",
              "    <tr>\n",
              "      <th>4</th>\n",
              "      <td>500.0005</td>\n",
              "      <td>-2.6155</td>\n",
              "    </tr>\n",
              "    <tr>\n",
              "      <th>...</th>\n",
              "      <td>...</td>\n",
              "      <td>...</td>\n",
              "    </tr>\n",
              "    <tr>\n",
              "      <th>1999995</th>\n",
              "      <td>699.9996</td>\n",
              "      <td>-2.9092</td>\n",
              "    </tr>\n",
              "    <tr>\n",
              "      <th>1999996</th>\n",
              "      <td>699.9997</td>\n",
              "      <td>-2.7422</td>\n",
              "    </tr>\n",
              "    <tr>\n",
              "      <th>1999997</th>\n",
              "      <td>699.9998</td>\n",
              "      <td>-2.8285</td>\n",
              "    </tr>\n",
              "    <tr>\n",
              "      <th>1999998</th>\n",
              "      <td>699.9999</td>\n",
              "      <td>-2.9092</td>\n",
              "    </tr>\n",
              "    <tr>\n",
              "      <th>1999999</th>\n",
              "      <td>700.0000</td>\n",
              "      <td>-2.7422</td>\n",
              "    </tr>\n",
              "  </tbody>\n",
              "</table>\n",
              "<p>2000000 rows × 2 columns</p>\n",
              "</div>"
            ],
            "text/plain": [
              "             time  signal\n",
              "0        500.0001 -2.6498\n",
              "1        500.0002 -2.8494\n",
              "2        500.0003 -2.8600\n",
              "3        500.0004 -2.4350\n",
              "4        500.0005 -2.6155\n",
              "...           ...     ...\n",
              "1999995  699.9996 -2.9092\n",
              "1999996  699.9997 -2.7422\n",
              "1999997  699.9998 -2.8285\n",
              "1999998  699.9999 -2.9092\n",
              "1999999  700.0000 -2.7422\n",
              "\n",
              "[2000000 rows x 2 columns]"
            ]
          },
          "metadata": {
            "tags": []
          },
          "execution_count": 11
        }
      ]
    },
    {
      "cell_type": "code",
      "metadata": {
        "id": "DVkoIdiWfmX7",
        "colab_type": "code",
        "colab": {}
      },
      "source": [
        "train_x = train.drop(['open_channels'], axis=1)\n",
        "train_y = train['open_channels']"
      ],
      "execution_count": 0,
      "outputs": []
    },
    {
      "cell_type": "code",
      "metadata": {
        "id": "2NcWkhBngHwa",
        "colab_type": "code",
        "colab": {
          "base_uri": "https://localhost:8080/",
          "height": 68
        },
        "outputId": "b92d6a1b-6d60-47a1-8f2f-0ba2856182a4"
      },
      "source": [
        "bracket = train_x[1:2]\n",
        "loc = train_x.loc[1]\n",
        "iloc = train_x.iloc[1]\n",
        "print(type(bracket))\n",
        "print(type(loc))\n",
        "print(type(iloc))"
      ],
      "execution_count": 107,
      "outputs": [
        {
          "output_type": "stream",
          "text": [
            "<class 'pandas.core.frame.DataFrame'>\n",
            "<class 'pandas.core.series.Series'>\n",
            "<class 'pandas.core.series.Series'>\n"
          ],
          "name": "stdout"
        }
      ]
    },
    {
      "cell_type": "code",
      "metadata": {
        "id": "DemqqJLSgOCe",
        "colab_type": "code",
        "colab": {
          "base_uri": "https://localhost:8080/",
          "height": 34
        },
        "outputId": "a55d9c53-1a98-4abb-fc77-23cace4053b9"
      },
      "source": [
        "train_x.shape"
      ],
      "execution_count": 108,
      "outputs": [
        {
          "output_type": "execute_result",
          "data": {
            "text/plain": [
              "(5000000, 2)"
            ]
          },
          "metadata": {
            "tags": []
          },
          "execution_count": 108
        }
      ]
    },
    {
      "cell_type": "code",
      "metadata": {
        "id": "Urftq-ajhzJ-",
        "colab_type": "code",
        "colab": {}
      },
      "source": [
        "# 練習用\n",
        "practice_x = train_x[:1000]\n",
        "practice_y = train_y[:1000]"
      ],
      "execution_count": 0,
      "outputs": []
    },
    {
      "cell_type": "code",
      "metadata": {
        "id": "gI8MVpIOiEh9",
        "colab_type": "code",
        "colab": {
          "base_uri": "https://localhost:8080/",
          "height": 102
        },
        "outputId": "80738c68-7ff4-4a1b-9010-19986c5384b4"
      },
      "source": [
        "import pandas as pd\n",
        "import numpy as np\n",
        "\n",
        "\n",
        "from sklearn.model_selection import KFold\n",
        "\n",
        "from sklearn.metrics import log_loss, f1_score, accuracy_score\n",
        "# from sklearn.metrics import f1_score\n",
        "import lightgbm as lgb\n",
        "\n",
        "\n",
        "data = train_x[90000:100000]\n",
        "y = train['open_channels'][90000:100000]\n",
        "test_x = test[90000:100000]\n",
        "\n",
        "oof = np.zeros(len(data))\n",
        "pred = np.zeros(len(data))\n",
        "scores = []\n",
        "\n",
        "\n",
        "# Modeling\n",
        "n_fold = 5\n",
        "folds = KFold(n_splits=n_fold, shuffle=True, random_state=123)\n",
        "for n_fold, (tr_idx, va_idx) in enumerate(folds.split(data, y)):\n",
        "    tr_x,tr_y = data.iloc[tr_idx], y.iloc[tr_idx]\n",
        "    va_x,va_y = data.iloc[va_idx], y.iloc[va_idx]\n",
        "\n",
        "    # 特徴量と目的変数をlightgbmのデータ構造に変換する\n",
        "    lgb_train = lgb.Dataset(tr_x, tr_y)\n",
        "    lgb_eval = lgb.Dataset(va_x, va_y)\n",
        "\n",
        "    # ハイパーパラメータの設定\n",
        "    params =  {'objective': 'binary',\n",
        "                        'seed': 71,\n",
        "                        'verbose': 0,\n",
        "                        'metrics': 'binary_logloss'}\n",
        "    num_round = 100\n",
        "\n",
        "    # 学習の実行\n",
        "    # カテゴリ変数をパラメータで指定している\n",
        "    # バリエーションデータのモデルに渡し、学習の進行と共にスコアがどう変わるかモニタリングする\n",
        "    # categorical_features = ['product', 'medical_info_b2', 'medical_info_3']\n",
        "    model = lgb.train(params, \n",
        "                                lgb_train, num_boost_round=num_round, \n",
        "                                # categorical_features=categorical_features,\n",
        "                                valid_names=['train', 'valid'])\n",
        "                                # ,valid_sets=[lgb_train, lgb_eval]) # 時間経過と共に値を確認できる\n",
        "    \n",
        "    # バリデーションデータでのスコア確認\n",
        "    va_pred = model.predict(va_x)\n",
        "    score = log_loss(va_y, va_pred)\n",
        "    # print(f1_score(va_y, va_pred, average='macro')\n",
        "    # f1_score(va_y, va_pred,  average='macro')\n",
        "    # accuracy_score(va_y, va_pred, normalize=False)\n",
        "    print(f'logloss: {score: 4f}')\n",
        "    # 予測\n",
        "    pred += model.predict(test_x)\n",
        "\n",
        "pred /= n_fold"
      ],
      "execution_count": 116,
      "outputs": [
        {
          "output_type": "stream",
          "text": [
            "logloss:  0.000012\n",
            "logloss:  0.000003\n",
            "logloss:  0.000260\n",
            "logloss:  0.012547\n",
            "logloss:  0.000050\n"
          ],
          "name": "stdout"
        }
      ]
    },
    {
      "cell_type": "code",
      "metadata": {
        "id": "IfOFD6ue8Gvu",
        "colab_type": "code",
        "colab": {}
      },
      "source": [
        "!cp drive/My\\ Drive/lightgbm_first.csv ./"
      ],
      "execution_count": 0,
      "outputs": []
    },
    {
      "cell_type": "code",
      "metadata": {
        "id": "kxjSsAgofk0L",
        "colab_type": "code",
        "colab": {}
      },
      "source": [
        "lightgbm_first = pd.read_csv(\"lightgbm_first.csv\")"
      ],
      "execution_count": 0,
      "outputs": []
    },
    {
      "cell_type": "code",
      "metadata": {
        "id": "VAit90tlf4cF",
        "colab_type": "code",
        "colab": {}
      },
      "source": [
        "# lightgbm_first[\"open_channels\"].valueCounts()\n",
        "lightgbm = lightgbm_first[\"open_channels\"]"
      ],
      "execution_count": 0,
      "outputs": []
    },
    {
      "cell_type": "code",
      "metadata": {
        "id": "9maeKOLSgCDw",
        "colab_type": "code",
        "colab": {
          "base_uri": "https://localhost:8080/",
          "height": 221
        },
        "outputId": "6ac66e01-b703-4724-adc1-f815d30aa61e"
      },
      "source": [
        "lightgbm.value_counts()"
      ],
      "execution_count": 131,
      "outputs": [
        {
          "output_type": "execute_result",
          "data": {
            "text/plain": [
              "0     1195024\n",
              "1      245879\n",
              "3      138300\n",
              "2      115349\n",
              "4       80176\n",
              "5       55640\n",
              "7       50602\n",
              "8       48453\n",
              "6       35596\n",
              "9       27416\n",
              "10       7565\n",
              "Name: open_channels, dtype: int64"
            ]
          },
          "metadata": {
            "tags": []
          },
          "execution_count": 131
        }
      ]
    },
    {
      "cell_type": "code",
      "metadata": {
        "id": "wX1v5H2GrfYh",
        "colab_type": "code",
        "colab": {}
      },
      "source": [
        "data = train_x[4500000:5000000]\n",
        "y1 = train['open_channels']\n",
        "y = train['open_channels'][4500000:5000000]\n",
        "test_x = test[4500000:5000000]"
      ],
      "execution_count": 0,
      "outputs": []
    },
    {
      "cell_type": "code",
      "metadata": {
        "id": "G0g2rbNZg6E5",
        "colab_type": "code",
        "colab": {
          "base_uri": "https://localhost:8080/",
          "height": 1000
        },
        "outputId": "aca91033-8f34-4adf-d534-68581dd99648"
      },
      "source": [
        "import pandas as pd\n",
        "import numpy as np\n",
        "\n",
        "\n",
        "from sklearn.model_selection import KFold\n",
        "\n",
        "from sklearn.metrics import log_loss, f1_score, accuracy_score\n",
        "# from sklearn.metrics import f1_score\n",
        "import lightgbm as lgb\n",
        "\n",
        "\n",
        "data = train_x[4990000:5000000]\n",
        "y = train['open_channels'][4990000:5000000]\n",
        "test_x = test[4990000:5000000]\n",
        "\n",
        "oof = np.zeros(len(data))\n",
        "pred = np.zeros(len(data))\n",
        "scores = []\n",
        "\n",
        "\n",
        "# Modeling\n",
        "n_fold = 5\n",
        "folds = KFold(n_splits=n_fold, shuffle=True, random_state=123)\n",
        "for n_fold, (tr_idx, va_idx) in enumerate(folds.split(data, y)):\n",
        "    tr_x,tr_y = data.iloc[tr_idx], y.iloc[tr_idx]\n",
        "    va_x,va_y = data.iloc[va_idx], y.iloc[va_idx]\n",
        "\n",
        "    # 特徴量と目的変数をlightgbmのデータ構造に変換する\n",
        "    lgb_train = lgb.Dataset(tr_x, tr_y)\n",
        "    lgb_eval = lgb.Dataset(va_x, va_y)\n",
        "\n",
        "    # ハイパーパラメータの設定\n",
        "    params = {'task': 'train',\n",
        "          'boosting_type': 'gbdt',\n",
        "          'objective': 'multiclass',\n",
        "          'metric': {'multi_logloss'},\n",
        "          'num_class': 11,\n",
        "          'learning_rate': 0.02,\n",
        "          'num_leaves': 23,\n",
        "          'min_data_in_leaf': 1,\n",
        "          'num_iteration': 1000,\n",
        "          'verbose': 0}\n",
        "    num_round = 100\n",
        "\n",
        "    # 学習の実行\n",
        "    # カテゴリ変数をパラメータで指定している\n",
        "    # バリエーションデータのモデルに渡し、学習の進行と共にスコアがどう変わるかモニタリングする\n",
        "    # categorical_features = ['product', 'medical_info_b2', 'medical_info_3']\n",
        "    model = lgb.train(params, \n",
        "                                lgb_train, num_boost_round=num_round, \n",
        "                                # categorical_features=categorical_features,\n",
        "                                valid_names=['train', 'valid'])\n",
        "                                # ,valid_sets=[lgb_train, lgb_eval]) # 時間経過と共に値を確認できる\n",
        "    \n",
        "    # バリデーションデータでのスコア確認\n",
        "    va_pred = model.predict(va_x)\n",
        "    print(va_pred)\n",
        "    # score = log_loss(va_y, va_pred)\n",
        "    # print(f1_score(va_y, va_pred, average='macro')\n",
        "    # f1_score(va_y, va_pred,  average='macro')\n",
        "    # accuracy_score(va_y, va_pred, normalize=False)\n",
        "    # print(f'logloss: {score: 4f}')\n",
        "    # print(va_pred)\n",
        "    # 予測\n",
        "    # pred += model.predict(test_x)\n",
        "\n",
        "# pred /= n_fold"
      ],
      "execution_count": 16,
      "outputs": [
        {
          "output_type": "stream",
          "text": [
            "/usr/local/lib/python3.6/dist-packages/lightgbm/engine.py:118: UserWarning: Found `num_iteration` in params. Will use it instead of argument\n",
            "  warnings.warn(\"Found `{}` in params. Will use it instead of argument\".format(alias))\n"
          ],
          "name": "stderr"
        },
        {
          "output_type": "stream",
          "text": [
            "[[2.04995911e-16 2.04995911e-16 3.39812667e-08 ... 9.75871161e-01\n",
            "  8.52575577e-05 5.16768319e-07]\n",
            " [2.25643902e-16 2.25643902e-16 3.74035844e-08 ... 2.01278180e-03\n",
            "  4.91157912e-06 5.68819249e-07]\n",
            " [2.09682798e-16 2.09682798e-16 3.47581904e-08 ... 9.98182813e-01\n",
            "  1.21189221e-03 5.28583357e-07]\n",
            " ...\n",
            " [2.53292966e-16 2.53292966e-16 5.91532010e-08 ... 6.37253909e-03\n",
            "  1.01773256e-05 9.54096475e-07]\n",
            " [1.64538863e-16 1.64538863e-16 3.84232926e-08 ... 8.98812983e-01\n",
            "  6.61118078e-06 6.19780137e-07]\n",
            " [5.26302826e-16 5.26302826e-16 1.22911275e-07 ... 8.29958827e-02\n",
            "  2.11468772e-05 1.98246196e-06]]\n",
            "[[2.56312885e-16 2.56312885e-16 8.31649530e-08 ... 9.96152513e-01\n",
            "  3.68241132e-05 7.62450228e-07]\n",
            " [3.79800957e-16 3.79800957e-16 1.23229722e-07 ... 2.38627262e-02\n",
            "  9.76092595e-01 3.80707967e-06]\n",
            " [9.16789903e-16 9.16789903e-16 2.97443598e-07 ... 3.09089729e-01\n",
            "  6.90802346e-01 9.26534463e-06]\n",
            " ...\n",
            " [3.76169421e-16 3.76169421e-16 1.63408635e-07 ... 9.72132515e-01\n",
            "  2.78244856e-02 1.84508755e-06]\n",
            " [3.09249206e-16 3.09249206e-16 1.34338380e-07 ... 9.98931863e-01\n",
            "  5.95596859e-04 1.51684807e-06]\n",
            " [1.38282713e-16 1.38282713e-16 6.00656623e-08 ... 6.56853522e-06\n",
            "  5.48611432e-06 6.78268082e-07]]\n",
            "[[4.80801265e-17 4.80801265e-17 7.42483631e-09 ... 2.86469651e-06\n",
            "  9.70291537e-07 1.89375449e-07]\n",
            " [3.92026684e-15 3.92026684e-15 6.05420203e-07 ... 3.78774665e-03\n",
            "  9.04867544e-01 9.09844121e-02]\n",
            " [4.15072333e-16 4.15072333e-16 6.41017678e-08 ... 4.01041282e-04\n",
            "  9.94582914e-01 4.97789694e-03]\n",
            " ...\n",
            " [1.00938859e-16 1.00938859e-16 1.58578204e-08 ... 4.64862218e-03\n",
            "  9.95187491e-01 1.53448550e-04]\n",
            " [9.04202170e-17 9.04202170e-17 1.42055794e-08 ... 1.81697653e-03\n",
            "  2.74073787e-06 7.09285583e-07]\n",
            " [1.65689097e-16 1.65689097e-16 2.60301383e-08 ... 8.71397598e-06\n",
            "  5.02222179e-06 1.29971915e-06]]\n",
            "[[3.38143959e-16 3.38143959e-16 5.20910600e-08 ... 1.50321925e-01\n",
            "  8.49644535e-01 1.08911941e-06]\n",
            " [1.88434432e-16 1.88434432e-16 2.90296988e-08 ... 1.02278322e-01\n",
            "  8.97702988e-01 6.06923742e-07]\n",
            " [3.91932185e-16 3.91932185e-16 6.03781802e-08 ... 6.72736224e-02\n",
            "  1.23605498e-05 1.26236456e-06]\n",
            " ...\n",
            " [3.60480968e-16 3.60480968e-16 5.55498520e-08 ... 9.97335792e-01\n",
            "  6.89818935e-04 4.94633796e-06]\n",
            " [1.04413582e-16 1.04413582e-16 1.60896540e-08 ... 2.48421219e-04\n",
            "  2.39847053e-06 1.43271049e-06]\n",
            " [7.42978351e-17 7.42978351e-17 1.14483811e-08 ... 7.98579122e-03\n",
            "  9.92006272e-01 1.01947741e-06]]\n",
            "[[1.29414225e-16 1.29414225e-16 3.06717676e-08 ... 9.86092174e-03\n",
            "  9.90118402e-01 1.08410379e-06]\n",
            " [1.81481139e-16 1.81481139e-16 4.30130112e-08 ... 9.85334861e-01\n",
            "  2.62454187e-04 4.25816455e-07]\n",
            " [2.05764190e-16 2.05764190e-16 4.87683492e-08 ... 9.75583170e-01\n",
            "  2.38095385e-02 4.82792749e-07]\n",
            " ...\n",
            " [4.37374672e-16 4.37374672e-16 1.13446403e-07 ... 9.95861514e-01\n",
            "  6.47911554e-04 3.40360257e-06]\n",
            " [2.68723247e-16 2.68723247e-16 6.97053041e-08 ... 9.93784229e-01\n",
            "  6.02100752e-03 2.09117536e-06]\n",
            " [4.88761696e-17 4.88761696e-17 1.26778709e-08 ... 3.48574056e-03\n",
            "  9.96447119e-01 6.18480502e-05]]\n"
          ],
          "name": "stdout"
        }
      ]
    },
    {
      "cell_type": "code",
      "metadata": {
        "id": "fZdcfZYon7r-",
        "colab_type": "code",
        "colab": {
          "base_uri": "https://localhost:8080/",
          "height": 170
        },
        "outputId": "236dee8e-fa70-44f3-ee4e-277a8fd7be15"
      },
      "source": [
        "np.unique(pred)"
      ],
      "execution_count": 142,
      "outputs": [
        {
          "output_type": "execute_result",
          "data": {
            "text/plain": [
              "array([0.02875025, 0.02883041, 0.02887368, 0.0288983 , 0.02890445,\n",
              "       0.02890821, 0.02891621, 0.0289579 , 0.02898541, 0.02911544,\n",
              "       0.02923517, 0.02955824, 0.02969918, 0.02980975, 0.02999833,\n",
              "       0.03003651, 0.03004007, 0.03180009, 0.03211662, 0.03354366,\n",
              "       0.03379505, 0.03381388, 0.03392412, 0.03401553, 0.03404165,\n",
              "       0.04010917, 0.05329548, 0.06020864, 0.06053532, 0.06063539,\n",
              "       0.06269652, 0.06355273, 0.08297413, 0.10693588, 0.12623509,\n",
              "       0.16194932, 0.21544734, 0.26628079, 0.32086143, 0.37574649,\n",
              "       0.42835838, 0.44575153, 0.46698434, 0.50390953, 0.51895706])"
            ]
          },
          "metadata": {
            "tags": []
          },
          "execution_count": 142
        }
      ]
    },
    {
      "cell_type": "code",
      "metadata": {
        "id": "KPWshcV4piFl",
        "colab_type": "code",
        "colab": {
          "base_uri": "https://localhost:8080/",
          "height": 34
        },
        "outputId": "81c3e281-11a8-4b18-86b3-14d741d33b24"
      },
      "source": [
        "np.unique(np.round(pred).astype(np.int))"
      ],
      "execution_count": 145,
      "outputs": [
        {
          "output_type": "execute_result",
          "data": {
            "text/plain": [
              "array([0, 1])"
            ]
          },
          "metadata": {
            "tags": []
          },
          "execution_count": 145
        }
      ]
    },
    {
      "cell_type": "code",
      "metadata": {
        "id": "d24xHDwOqgHg",
        "colab_type": "code",
        "colab": {
          "base_uri": "https://localhost:8080/",
          "height": 221
        },
        "outputId": "bc97c642-b308-42e1-953d-efefda4de9f1"
      },
      "source": [
        "y1.value_counts()"
      ],
      "execution_count": 157,
      "outputs": [
        {
          "output_type": "execute_result",
          "data": {
            "text/plain": [
              "0     1240152\n",
              "1      985865\n",
              "3      668609\n",
              "2      553924\n",
              "4      403410\n",
              "5      277877\n",
              "7      265015\n",
              "8      245183\n",
              "6      188112\n",
              "9      136120\n",
              "10      35733\n",
              "Name: open_channels, dtype: int64"
            ]
          },
          "metadata": {
            "tags": []
          },
          "execution_count": 157
        }
      ]
    },
    {
      "cell_type": "code",
      "metadata": {
        "id": "vw11H6sxqjOL",
        "colab_type": "code",
        "colab": {}
      },
      "source": [
        ""
      ],
      "execution_count": 0,
      "outputs": []
    }
  ]
}